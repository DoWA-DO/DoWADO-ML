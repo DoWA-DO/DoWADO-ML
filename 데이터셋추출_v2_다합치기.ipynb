{
 "cells": [
  {
   "cell_type": "markdown",
   "metadata": {},
   "source": [
    "## 고딩"
   ]
  },
  {
   "cell_type": "code",
   "execution_count": null,
   "metadata": {},
   "outputs": [],
   "source": [
    "import json\n",
    "import pandas as pd\n",
    "import numpy as np\n",
    "\n",
    "# JSON 파일을 읽어서 파싱\n",
    "with open('상담기록_데이터_고등학교.json', 'r', encoding='utf-8') as file:\n",
    "    data = json.load(file)\n",
    "\n",
    "# 데이터 추출\n",
    "rows = []\n",
    "for key, value in data.items():\n",
    "    student_idx = value['meta']['student_idx']\n",
    "    row = {'student_idx': student_idx, 'conversation_자아이해': '', 'conversation_교육기회탐색': '', 'conversation_직업정보탐색': ''}\n",
    "    \n",
    "    for conv in value['conversation']:\n",
    "        if conv['conv_category'] == '자아이해':\n",
    "            row['conversation_자아이해'] += ' ' + ' '.join([utterance['utterance'] for utterance in conv['utterances']])\n",
    "        elif conv['conv_category'] == '직업이해':\n",
    "            row['conversation_직업이해'] = ' '.join([utterance['utterance'] for utterance in conv['utterances']])\n",
    "        elif conv['conv_category'] == '교육기회탐색':\n",
    "            row['conversation_교육기회탐색'] += ' ' + ' '.join([utterance['utterance'] for utterance in conv['utterances']])\n",
    "        elif conv['conv_category'] == '직업정보탐색':\n",
    "            row['conversation_직업정보탐색'] += ' ' + ' '.join([utterance['utterance'] for utterance in conv['utterances']])\n",
    "        \n",
    "    rows.append(row)\n",
    "\n",
    "# DataFrame 생성\n",
    "df = pd.DataFrame(rows)\n",
    "\n",
    "# 짝수행의 내용 뒤에 홀수행의 내용 이어붙이기\n",
    "combined_rows = []\n",
    "for i in range(0, len(df), 2):\n",
    "    combined_row = df.iloc[i].copy()\n",
    "    if i + 1 < len(df) and df.iloc[i]['student_idx'] == df.iloc[i + 1]['student_idx']:\n",
    "        combined_row['conversation_자아이해'] += ' ' + df.iloc[i + 1]['conversation_자아이해']\n",
    "        combined_row['conversation_교육기회탐색'] += ' ' + df.iloc[i + 1]['conversation_교육기회탐색']\n",
    "        combined_row['conversation_직업정보탐색'] += ' ' + df.iloc[i + 1]['conversation_직업정보탐색']\n",
    "    combined_rows.append(combined_row)\n",
    "\n",
    "# 새로운 DataFrame 생성\n",
    "data_high = pd.DataFrame(combined_rows)\n",
    "\n",
    "# NaN 처리\n",
    "data_high.replace(' ', np.nan, inplace=True)\n",
    "data_high.reset_index(drop=True, inplace=True)\n",
    "display(data_high.head())"
   ]
  },
  {
   "cell_type": "markdown",
   "metadata": {},
   "source": [
    "## 고딩 전문가라벨링 데이터"
   ]
  },
  {
   "cell_type": "code",
   "execution_count": null,
   "metadata": {},
   "outputs": [],
   "source": [
    "jun_high = pd.read_csv('원본_데이터셋/train/고등/전문가라벨링데이터_고등학교.csv', encoding= 'utf-8')\n"
   ]
  },
  {
   "cell_type": "code",
   "execution_count": 36,
   "metadata": {},
   "outputs": [],
   "source": [
    "data_high.replace(np.nan, ' ', inplace=True)\n",
    "data_high['text'] = data_high['conversation_교육기회탐색'] + data_high['conversation_자아이해'] + data_high['conversation_직업이해'] + data_high['conversation_직업정보탐색']\n",
    "\n",
    "# 데이터 병합\n",
    "merged_data_high = pd.merge(data_high[['student_idx', 'text']], jun_high[['student_idx', 'priority1', 'priority2', 'priority3']], on='student_idx', how='inner')"
   ]
  },
  {
   "cell_type": "markdown",
   "metadata": {},
   "source": [
    "## 중딩"
   ]
  },
  {
   "cell_type": "code",
   "execution_count": 39,
   "metadata": {},
   "outputs": [],
   "source": [
    "import json\n",
    "import pandas as pd\n",
    "import numpy as np\n",
    "\n",
    "# JSON 파일을 읽어서 파싱\n",
    "with open('상담기록_데이터_중학교_train.json', 'r', encoding='utf-8') as file:\n",
    "    data = json.load(file)\n",
    "\n",
    "# 데이터 추출\n",
    "rows = []\n",
    "for key, value in data.items():\n",
    "    student_idx = value['meta']['student_idx']\n",
    "    row = {'student_idx': student_idx, 'conversation_자아이해': '', 'conversation_교육기회탐색': '', 'conversation_직업정보탐색': ''}\n",
    "    \n",
    "    for conv in value['conversation']:\n",
    "        if conv['conv_category'] == '자아이해':\n",
    "            row['conversation_자아이해'] += ' ' + ' '.join([utterance['utterance'] for utterance in conv['utterances']])\n",
    "        elif conv['conv_category'] == '직업이해':\n",
    "            row['conversation_직업이해'] = ' '.join([utterance['utterance'] for utterance in conv['utterances']])\n",
    "        elif conv['conv_category'] == '교육기회탐색':\n",
    "            row['conversation_교육기회탐색'] += ' ' + ' '.join([utterance['utterance'] for utterance in conv['utterances']])\n",
    "        elif conv['conv_category'] == '직업정보탐색':\n",
    "            row['conversation_직업정보탐색'] += ' ' + ' '.join([utterance['utterance'] for utterance in conv['utterances']])\n",
    "        \n",
    "    rows.append(row)\n",
    "\n",
    "# DataFrame 생성\n",
    "df = pd.DataFrame(rows)\n",
    "\n",
    "# 짝수행의 내용 뒤에 홀수행의 내용 이어붙이기\n",
    "combined_rows = []\n",
    "for i in range(0, len(df), 2):\n",
    "    combined_row = df.iloc[i].copy()\n",
    "    if i + 1 < len(df) and df.iloc[i]['student_idx'] == df.iloc[i + 1]['student_idx']:\n",
    "        combined_row['conversation_자아이해'] += ' ' + df.iloc[i + 1]['conversation_자아이해']\n",
    "        combined_row['conversation_교육기회탐색'] += ' ' + df.iloc[i + 1]['conversation_교육기회탐색']\n",
    "        combined_row['conversation_직업정보탐색'] += ' ' + df.iloc[i + 1]['conversation_직업정보탐색']\n",
    "    combined_rows.append(combined_row)\n",
    "\n",
    "# 새로운 DataFrame 생성\n",
    "data_middle = pd.DataFrame(combined_rows)\n",
    "\n",
    "# NaN 처리\n",
    "data_middle.replace(' ', np.nan, inplace=True)\n",
    "data_middle.reset_index(drop=True, inplace=True)"
   ]
  },
  {
   "cell_type": "code",
   "execution_count": 41,
   "metadata": {},
   "outputs": [],
   "source": [
    "jun_middle = pd.read_csv('원본_데이터셋/train/중등/전문가라벨링데이터_중학교.csv', encoding= 'utf-8')"
   ]
  },
  {
   "cell_type": "code",
   "execution_count": 42,
   "metadata": {},
   "outputs": [],
   "source": [
    "data_middle.replace(np.nan, ' ', inplace=True)\n",
    "data_middle['text'] = data_middle['conversation_교육기회탐색'] + data_middle['conversation_자아이해'] + data_middle['conversation_직업이해'] + data_middle['conversation_직업정보탐색']\n",
    "\n",
    "# 데이터 병합\n",
    "merged_data_middle = pd.merge(data_middle[['student_idx', 'text']], jun_middle[['student_idx', 'priority1', 'priority2', 'priority3']], on='student_idx', how='inner')"
   ]
  },
  {
   "cell_type": "code",
   "execution_count": 44,
   "metadata": {},
   "outputs": [
    {
     "data": {
      "text/html": [
       "<div>\n",
       "<style scoped>\n",
       "    .dataframe tbody tr th:only-of-type {\n",
       "        vertical-align: middle;\n",
       "    }\n",
       "\n",
       "    .dataframe tbody tr th {\n",
       "        vertical-align: top;\n",
       "    }\n",
       "\n",
       "    .dataframe thead th {\n",
       "        text-align: right;\n",
       "    }\n",
       "</style>\n",
       "<table border=\"1\" class=\"dataframe\">\n",
       "  <thead>\n",
       "    <tr style=\"text-align: right;\">\n",
       "      <th></th>\n",
       "      <th>student_idx</th>\n",
       "      <th>text</th>\n",
       "      <th>priority1</th>\n",
       "      <th>priority2</th>\n",
       "      <th>priority3</th>\n",
       "    </tr>\n",
       "  </thead>\n",
       "  <tbody>\n",
       "    <tr>\n",
       "      <th>0</th>\n",
       "      <td>S-0022</td>\n",
       "      <td>그러면 지금 3학년인데 고등학교 진학해야 하잖아요. 생각해둔 학교가 있나요? 네 ...</td>\n",
       "      <td>공학 전문직</td>\n",
       "      <td>IT관련전문직</td>\n",
       "      <td>운동 관련직</td>\n",
       "    </tr>\n",
       "    <tr>\n",
       "      <th>1</th>\n",
       "      <td>S-0024</td>\n",
       "      <td>학생은 요리사를 진로로 생각해본 적은 있어요? 식품연구원 생각했었어요 아주 잘 맞...</td>\n",
       "      <td>조리 관련직</td>\n",
       "      <td>공학 기술직</td>\n",
       "      <td>사무 관련직</td>\n",
       "    </tr>\n",
       "  </tbody>\n",
       "</table>\n",
       "</div>"
      ],
      "text/plain": [
       "  student_idx                                               text priority1  \\\n",
       "0      S-0022   그러면 지금 3학년인데 고등학교 진학해야 하잖아요. 생각해둔 학교가 있나요? 네 ...    공학 전문직   \n",
       "1      S-0024   학생은 요리사를 진로로 생각해본 적은 있어요? 식품연구원 생각했었어요 아주 잘 맞...    조리 관련직   \n",
       "\n",
       "  priority2 priority3  \n",
       "0   IT관련전문직    운동 관련직  \n",
       "1    공학 기술직    사무 관련직  "
      ]
     },
     "metadata": {},
     "output_type": "display_data"
    },
    {
     "data": {
      "text/plain": [
       "student_idx    0\n",
       "text           0\n",
       "priority1      0\n",
       "priority2      0\n",
       "priority3      0\n",
       "dtype: int64"
      ]
     },
     "execution_count": 44,
     "metadata": {},
     "output_type": "execute_result"
    }
   ],
   "source": [
    "display(merged_data_middle.head(2))\n",
    "merged_data_middle.isnull().sum()"
   ]
  },
  {
   "cell_type": "markdown",
   "metadata": {},
   "source": [
    "## 초딩"
   ]
  },
  {
   "cell_type": "code",
   "execution_count": 47,
   "metadata": {},
   "outputs": [],
   "source": [
    "import json\n",
    "import pandas as pd\n",
    "import numpy as np\n",
    "\n",
    "# JSON 파일을 읽어서 파싱\n",
    "with open('상담기록_데이터_초등학교.json', 'r', encoding='utf-8') as file:\n",
    "    data = json.load(file)\n",
    "\n",
    "# 데이터 추출\n",
    "rows = []\n",
    "for key, value in data.items():\n",
    "    student_idx = value['meta']['student_idx']\n",
    "    row = {'student_idx': student_idx, 'conversation_자아이해': '', 'conversation_교육기회탐색': '', 'conversation_직업정보탐색': ''}\n",
    "    \n",
    "    for conv in value['conversation']:\n",
    "        if conv['conv_category'] == '자아이해':\n",
    "            row['conversation_자아이해'] += ' ' + ' '.join([utterance['utterance'] for utterance in conv['utterances']])\n",
    "        elif conv['conv_category'] == '직업이해':\n",
    "            row['conversation_직업이해'] = ' '.join([utterance['utterance'] for utterance in conv['utterances']])\n",
    "        elif conv['conv_category'] == '교육기회탐색':\n",
    "            row['conversation_교육기회탐색'] += ' ' + ' '.join([utterance['utterance'] for utterance in conv['utterances']])\n",
    "        elif conv['conv_category'] == '직업정보탐색':\n",
    "            row['conversation_직업정보탐색'] += ' ' + ' '.join([utterance['utterance'] for utterance in conv['utterances']])\n",
    "        \n",
    "    rows.append(row)\n",
    "\n",
    "# DataFrame 생성\n",
    "df = pd.DataFrame(rows)\n",
    "\n",
    "# 짝수행의 내용 뒤에 홀수행의 내용 이어붙이기\n",
    "combined_rows = []\n",
    "for i in range(0, len(df), 2):\n",
    "    combined_row = df.iloc[i].copy()\n",
    "    if i + 1 < len(df) and df.iloc[i]['student_idx'] == df.iloc[i + 1]['student_idx']:\n",
    "        combined_row['conversation_자아이해'] += ' ' + df.iloc[i + 1]['conversation_자아이해']\n",
    "        combined_row['conversation_교육기회탐색'] += ' ' + df.iloc[i + 1]['conversation_교육기회탐색']\n",
    "        combined_row['conversation_직업정보탐색'] += ' ' + df.iloc[i + 1]['conversation_직업정보탐색']\n",
    "    combined_rows.append(combined_row)\n",
    "\n",
    "# 새로운 DataFrame 생성\n",
    "data_element = pd.DataFrame(combined_rows)\n",
    "\n",
    "# NaN 처리\n",
    "data_element.replace(' ', np.nan, inplace=True)\n",
    "data_element.reset_index(drop=True, inplace=True)"
   ]
  },
  {
   "cell_type": "code",
   "execution_count": 48,
   "metadata": {},
   "outputs": [],
   "source": [
    "jun_element = pd.read_csv('원본_데이터셋/train/초등/전문가라벨링데이터_초등학교.csv', encoding= 'utf-8')"
   ]
  },
  {
   "cell_type": "code",
   "execution_count": 49,
   "metadata": {},
   "outputs": [],
   "source": [
    "data_element.replace(np.nan, ' ', inplace=True)\n",
    "data_element['text'] = data_element['conversation_교육기회탐색'] + data_element['conversation_자아이해'] + data_element['conversation_직업이해'] + data_element['conversation_직업정보탐색']\n",
    "\n",
    "# 데이터 병합\n",
    "merged_data_element = pd.merge(data_element[['student_idx', 'text']], jun_element[['student_idx', 'priority1', 'priority2', 'priority3']], on='student_idx', how='inner')"
   ]
  },
  {
   "cell_type": "code",
   "execution_count": 50,
   "metadata": {},
   "outputs": [
    {
     "data": {
      "text/html": [
       "<div>\n",
       "<style scoped>\n",
       "    .dataframe tbody tr th:only-of-type {\n",
       "        vertical-align: middle;\n",
       "    }\n",
       "\n",
       "    .dataframe tbody tr th {\n",
       "        vertical-align: top;\n",
       "    }\n",
       "\n",
       "    .dataframe thead th {\n",
       "        text-align: right;\n",
       "    }\n",
       "</style>\n",
       "<table border=\"1\" class=\"dataframe\">\n",
       "  <thead>\n",
       "    <tr style=\"text-align: right;\">\n",
       "      <th></th>\n",
       "      <th>student_idx</th>\n",
       "      <th>text</th>\n",
       "      <th>priority1</th>\n",
       "      <th>priority2</th>\n",
       "      <th>priority3</th>\n",
       "    </tr>\n",
       "  </thead>\n",
       "  <tbody>\n",
       "    <tr>\n",
       "      <th>0</th>\n",
       "      <td>S-0155</td>\n",
       "      <td>학생은 5학년이지만 중학생 정도의 지력을 갖춘 거 같아요 선행학습을 하고 있나요...</td>\n",
       "      <td>의료관련 전문직</td>\n",
       "      <td>이학 전문직</td>\n",
       "      <td>자연친화 관련직</td>\n",
       "    </tr>\n",
       "    <tr>\n",
       "      <th>1</th>\n",
       "      <td>S-0157</td>\n",
       "      <td>6학년 1학기 학교생활은 어땠나요? 힘들었습니다 왜 힘들었나요? 공부가 어려웠습...</td>\n",
       "      <td>IT관련전문직</td>\n",
       "      <td>공학 전문직</td>\n",
       "      <td>공학 기술직</td>\n",
       "    </tr>\n",
       "  </tbody>\n",
       "</table>\n",
       "</div>"
      ],
      "text/plain": [
       "  student_idx                                               text priority1  \\\n",
       "0      S-0155    학생은 5학년이지만 중학생 정도의 지력을 갖춘 거 같아요 선행학습을 하고 있나요...  의료관련 전문직   \n",
       "1      S-0157    6학년 1학기 학교생활은 어땠나요? 힘들었습니다 왜 힘들었나요? 공부가 어려웠습...   IT관련전문직   \n",
       "\n",
       "  priority2 priority3  \n",
       "0    이학 전문직  자연친화 관련직  \n",
       "1    공학 전문직    공학 기술직  "
      ]
     },
     "metadata": {},
     "output_type": "display_data"
    },
    {
     "data": {
      "text/plain": [
       "student_idx    0\n",
       "text           0\n",
       "priority1      0\n",
       "priority2      0\n",
       "priority3      0\n",
       "dtype: int64"
      ]
     },
     "execution_count": 50,
     "metadata": {},
     "output_type": "execute_result"
    }
   ],
   "source": [
    "display(merged_data_element.head(2))\n",
    "merged_data_element.isnull().sum()"
   ]
  },
  {
   "cell_type": "code",
   "execution_count": 52,
   "metadata": {},
   "outputs": [],
   "source": [
    "merge_all2 = pd.concat([merged_data_element, merged_data_middle, merged_data_high])\n",
    "merge_all2.to_csv('merge_모든데이터2.csv', encoding= 'utf-8-sig', index = False)"
   ]
  },
  {
   "cell_type": "markdown",
   "metadata": {},
   "source": [
    "## test데이터셋하기"
   ]
  },
  {
   "cell_type": "markdown",
   "metadata": {},
   "source": [
    "## 고딩"
   ]
  },
  {
   "cell_type": "code",
   "execution_count": 53,
   "metadata": {},
   "outputs": [
    {
     "data": {
      "text/html": [
       "<div>\n",
       "<style scoped>\n",
       "    .dataframe tbody tr th:only-of-type {\n",
       "        vertical-align: middle;\n",
       "    }\n",
       "\n",
       "    .dataframe tbody tr th {\n",
       "        vertical-align: top;\n",
       "    }\n",
       "\n",
       "    .dataframe thead th {\n",
       "        text-align: right;\n",
       "    }\n",
       "</style>\n",
       "<table border=\"1\" class=\"dataframe\">\n",
       "  <thead>\n",
       "    <tr style=\"text-align: right;\">\n",
       "      <th></th>\n",
       "      <th>student_idx</th>\n",
       "      <th>conversation_자아이해</th>\n",
       "      <th>conversation_교육기회탐색</th>\n",
       "      <th>conversation_직업정보탐색</th>\n",
       "      <th>conversation_직업이해</th>\n",
       "    </tr>\n",
       "  </thead>\n",
       "  <tbody>\n",
       "    <tr>\n",
       "      <th>0</th>\n",
       "      <td>S-0043</td>\n",
       "      <td>학교에서 진로 심리검사를 해본 적이 있나요? 해본 것 같아요 결과가 기억나요? 아...</td>\n",
       "      <td>학생은 3학년이라 이제 진학할지 말지 고민이 되겠어요. 담임선생님과 진학 상담을 ...</td>\n",
       "      <td>하고 싶지 않은 일을 한다는 건 좋지 않다는 걸 선생님은 학생보다 오래 살아서 ...</td>\n",
       "      <td>학생이 만약 취업한다면 어디로 갈 예정이었나요? 그냥 회계사무원으로. 근데 제가 체...</td>\n",
       "    </tr>\n",
       "    <tr>\n",
       "      <th>1</th>\n",
       "      <td>S-0121</td>\n",
       "      <td>나는 내가 좋아하는 것을 알고 있다. (매우 그렇다)라고 하셨는데, 이 부분에 대...</td>\n",
       "      <td>혹시 학교나 개인적으로 심리 검사나 진로 적성 검사를 받은 적이 있으신가요. 네,...</td>\n",
       "      <td>그러면 희망 직업 정보에 대해서 구체적으로 어떤 방법을 통해서 관련 자료를 얻으셨...</td>\n",
       "      <td>아직 진로에 큰 틀을 정하지 못하는 친구들도 많이 있는 것에 반해서 말입니다. 기계...</td>\n",
       "    </tr>\n",
       "    <tr>\n",
       "      <th>2</th>\n",
       "      <td>S-0130</td>\n",
       "      <td>그럼 학생은 본인이 어떤 사람이라고 생각해요? 수동적인 사람이요 왜 그렇게 생각해...</td>\n",
       "      <td>혹시 그럼 학생은 대학교에 가고 싶은 마음이 있어요? 갈 수 있다면요 성적 때문에...</td>\n",
       "      <td>NaN</td>\n",
       "      <td>금융과 증권이면 이후에 어떤 직업을 가지는지 알고 있나요? 적당히 안다고 생각해요 ...</td>\n",
       "    </tr>\n",
       "    <tr>\n",
       "      <th>3</th>\n",
       "      <td>S-0146</td>\n",
       "      <td>혹시 진로 검사나 심리 검사를 받아본 적이 있나요? 네, 받아본 적 있어요. 어떤...</td>\n",
       "      <td>학교 선생님들과 진로에 관해 이야기 나눈 적 있을까요? 아직 없어요. 1학년 때도...</td>\n",
       "      <td>그럼 대학 진학 역시 이쪽으로 생각하고 있나요? 제가 특성화고라 대학 진학은 생각...</td>\n",
       "      <td>아까 언급했듯이 한 사람이 평생 한 가지의 일만 하는 세상이 아니잖아요.</td>\n",
       "    </tr>\n",
       "    <tr>\n",
       "      <th>4</th>\n",
       "      <td>S-0159</td>\n",
       "      <td>나를 잘 안다는 것은 모든 상담의 기초가 되는 부분이고 의외로 나에 대해서 아는 ...</td>\n",
       "      <td>방과 후 수업은 어떤 과목 다니고 있나요? 이번에 자격증 시험을 준비하는 방과 후...</td>\n",
       "      <td>건물 디자인 관련한 과를 전공하고 싶다고 적었는데요 건물 디자인은 어떤 것을 의미...</td>\n",
       "      <td>지금 100세 시대라고 말하는데 학생은 평생 직업을 몇 개 정도 가져보고 싶나요? ...</td>\n",
       "    </tr>\n",
       "  </tbody>\n",
       "</table>\n",
       "</div>"
      ],
      "text/plain": [
       "  student_idx                                  conversation_자아이해  \\\n",
       "0      S-0043   학교에서 진로 심리검사를 해본 적이 있나요? 해본 것 같아요 결과가 기억나요? 아...   \n",
       "1      S-0121   나는 내가 좋아하는 것을 알고 있다. (매우 그렇다)라고 하셨는데, 이 부분에 대...   \n",
       "2      S-0130   그럼 학생은 본인이 어떤 사람이라고 생각해요? 수동적인 사람이요 왜 그렇게 생각해...   \n",
       "3      S-0146   혹시 진로 검사나 심리 검사를 받아본 적이 있나요? 네, 받아본 적 있어요. 어떤...   \n",
       "4      S-0159   나를 잘 안다는 것은 모든 상담의 기초가 되는 부분이고 의외로 나에 대해서 아는 ...   \n",
       "\n",
       "                                 conversation_교육기회탐색  \\\n",
       "0   학생은 3학년이라 이제 진학할지 말지 고민이 되겠어요. 담임선생님과 진학 상담을 ...   \n",
       "1   혹시 학교나 개인적으로 심리 검사나 진로 적성 검사를 받은 적이 있으신가요. 네,...   \n",
       "2   혹시 그럼 학생은 대학교에 가고 싶은 마음이 있어요? 갈 수 있다면요 성적 때문에...   \n",
       "3   학교 선생님들과 진로에 관해 이야기 나눈 적 있을까요? 아직 없어요. 1학년 때도...   \n",
       "4   방과 후 수업은 어떤 과목 다니고 있나요? 이번에 자격증 시험을 준비하는 방과 후...   \n",
       "\n",
       "                                 conversation_직업정보탐색  \\\n",
       "0    하고 싶지 않은 일을 한다는 건 좋지 않다는 걸 선생님은 학생보다 오래 살아서 ...   \n",
       "1   그러면 희망 직업 정보에 대해서 구체적으로 어떤 방법을 통해서 관련 자료를 얻으셨...   \n",
       "2                                                NaN   \n",
       "3   그럼 대학 진학 역시 이쪽으로 생각하고 있나요? 제가 특성화고라 대학 진학은 생각...   \n",
       "4   건물 디자인 관련한 과를 전공하고 싶다고 적었는데요 건물 디자인은 어떤 것을 의미...   \n",
       "\n",
       "                                   conversation_직업이해  \n",
       "0  학생이 만약 취업한다면 어디로 갈 예정이었나요? 그냥 회계사무원으로. 근데 제가 체...  \n",
       "1  아직 진로에 큰 틀을 정하지 못하는 친구들도 많이 있는 것에 반해서 말입니다. 기계...  \n",
       "2  금융과 증권이면 이후에 어떤 직업을 가지는지 알고 있나요? 적당히 안다고 생각해요 ...  \n",
       "3           아까 언급했듯이 한 사람이 평생 한 가지의 일만 하는 세상이 아니잖아요.  \n",
       "4  지금 100세 시대라고 말하는데 학생은 평생 직업을 몇 개 정도 가져보고 싶나요? ...  "
      ]
     },
     "metadata": {},
     "output_type": "display_data"
    }
   ],
   "source": [
    "import json\n",
    "import pandas as pd\n",
    "import numpy as np\n",
    "\n",
    "# JSON 파일을 읽어서 파싱\n",
    "with open('상담기록_데이터_고등학교.json', 'r', encoding='utf-8') as file:\n",
    "    data = json.load(file)\n",
    "\n",
    "# 데이터 추출\n",
    "rows = []\n",
    "for key, value in data.items():\n",
    "    student_idx = value['meta']['student_idx']\n",
    "    row = {'student_idx': student_idx, 'conversation_자아이해': '', 'conversation_교육기회탐색': '', 'conversation_직업정보탐색': ''}\n",
    "    \n",
    "    for conv in value['conversation']:\n",
    "        if conv['conv_category'] == '자아이해':\n",
    "            row['conversation_자아이해'] += ' ' + ' '.join([utterance['utterance'] for utterance in conv['utterances']])\n",
    "        elif conv['conv_category'] == '직업이해':\n",
    "            row['conversation_직업이해'] = ' '.join([utterance['utterance'] for utterance in conv['utterances']])\n",
    "        elif conv['conv_category'] == '교육기회탐색':\n",
    "            row['conversation_교육기회탐색'] += ' ' + ' '.join([utterance['utterance'] for utterance in conv['utterances']])\n",
    "        elif conv['conv_category'] == '직업정보탐색':\n",
    "            row['conversation_직업정보탐색'] += ' ' + ' '.join([utterance['utterance'] for utterance in conv['utterances']])\n",
    "        \n",
    "    rows.append(row)\n",
    "\n",
    "# DataFrame 생성\n",
    "df = pd.DataFrame(rows)\n",
    "\n",
    "# 짝수행의 내용 뒤에 홀수행의 내용 이어붙이기\n",
    "combined_rows = []\n",
    "for i in range(0, len(df), 2):\n",
    "    combined_row = df.iloc[i].copy()\n",
    "    if i + 1 < len(df) and df.iloc[i]['student_idx'] == df.iloc[i + 1]['student_idx']:\n",
    "        combined_row['conversation_자아이해'] += ' ' + df.iloc[i + 1]['conversation_자아이해']\n",
    "        combined_row['conversation_교육기회탐색'] += ' ' + df.iloc[i + 1]['conversation_교육기회탐색']\n",
    "        combined_row['conversation_직업정보탐색'] += ' ' + df.iloc[i + 1]['conversation_직업정보탐색']\n",
    "    combined_rows.append(combined_row)\n",
    "\n",
    "# 새로운 DataFrame 생성\n",
    "data_high = pd.DataFrame(combined_rows)\n",
    "\n",
    "# NaN 처리\n",
    "data_high.replace(' ', np.nan, inplace=True)\n",
    "data_high.reset_index(drop=True, inplace=True)\n",
    "display(data_high.head())"
   ]
  },
  {
   "cell_type": "markdown",
   "metadata": {},
   "source": [
    "## 고딩 전문가라벨링 데이터"
   ]
  },
  {
   "cell_type": "code",
   "execution_count": 54,
   "metadata": {},
   "outputs": [],
   "source": [
    "jun_high = pd.read_csv('원본_데이터셋/test/고등/test_전문가라벨링데이터_고등학교.csv', encoding= 'utf-8')\n"
   ]
  },
  {
   "cell_type": "code",
   "execution_count": 55,
   "metadata": {},
   "outputs": [],
   "source": [
    "data_high.replace(np.nan, ' ', inplace=True)\n",
    "data_high['text'] = data_high['conversation_교육기회탐색'] + data_high['conversation_자아이해'] + data_high['conversation_직업이해'] + data_high['conversation_직업정보탐색']\n",
    "\n",
    "# 데이터 병합\n",
    "merged_data_high = pd.merge(data_high[['student_idx', 'text']], jun_high[['student_idx', 'priority1', 'priority2', 'priority3']], on='student_idx', how='inner')"
   ]
  },
  {
   "cell_type": "code",
   "execution_count": 56,
   "metadata": {},
   "outputs": [
    {
     "data": {
      "text/html": [
       "<div>\n",
       "<style scoped>\n",
       "    .dataframe tbody tr th:only-of-type {\n",
       "        vertical-align: middle;\n",
       "    }\n",
       "\n",
       "    .dataframe tbody tr th {\n",
       "        vertical-align: top;\n",
       "    }\n",
       "\n",
       "    .dataframe thead th {\n",
       "        text-align: right;\n",
       "    }\n",
       "</style>\n",
       "<table border=\"1\" class=\"dataframe\">\n",
       "  <thead>\n",
       "    <tr style=\"text-align: right;\">\n",
       "      <th></th>\n",
       "      <th>student_idx</th>\n",
       "      <th>text</th>\n",
       "      <th>priority1</th>\n",
       "      <th>priority2</th>\n",
       "      <th>priority3</th>\n",
       "    </tr>\n",
       "  </thead>\n",
       "  <tbody>\n",
       "    <tr>\n",
       "      <th>0</th>\n",
       "      <td>S-0043</td>\n",
       "      <td>학생은 3학년이라 이제 진학할지 말지 고민이 되겠어요. 담임선생님과 진학 상담을 ...</td>\n",
       "      <td>회계 관련직</td>\n",
       "      <td>사무 관련직</td>\n",
       "      <td>금융 및 경영 관련직</td>\n",
       "    </tr>\n",
       "    <tr>\n",
       "      <th>1</th>\n",
       "      <td>S-0121</td>\n",
       "      <td>혹시 학교나 개인적으로 심리 검사나 진로 적성 검사를 받은 적이 있으신가요. 네,...</td>\n",
       "      <td>금융 및 경영 관련직</td>\n",
       "      <td>공학 전문직</td>\n",
       "      <td>IT관련전문직</td>\n",
       "    </tr>\n",
       "  </tbody>\n",
       "</table>\n",
       "</div>"
      ],
      "text/plain": [
       "  student_idx                                               text    priority1  \\\n",
       "0      S-0043   학생은 3학년이라 이제 진학할지 말지 고민이 되겠어요. 담임선생님과 진학 상담을 ...       회계 관련직   \n",
       "1      S-0121   혹시 학교나 개인적으로 심리 검사나 진로 적성 검사를 받은 적이 있으신가요. 네,...  금융 및 경영 관련직   \n",
       "\n",
       "  priority2    priority3  \n",
       "0    사무 관련직  금융 및 경영 관련직  \n",
       "1    공학 전문직      IT관련전문직  "
      ]
     },
     "metadata": {},
     "output_type": "display_data"
    },
    {
     "name": "stdout",
     "output_type": "stream",
     "text": [
      "(182, 5)\n"
     ]
    }
   ],
   "source": [
    "display(merged_data_high.head(2))\n",
    "print(merged_data_high.shape)"
   ]
  },
  {
   "cell_type": "markdown",
   "metadata": {},
   "source": [
    "## 중딩"
   ]
  },
  {
   "cell_type": "code",
   "execution_count": 57,
   "metadata": {},
   "outputs": [],
   "source": [
    "import json\n",
    "import pandas as pd\n",
    "import numpy as np\n",
    "\n",
    "# JSON 파일을 읽어서 파싱\n",
    "with open('상담기록_데이터_중학교.json', 'r', encoding='utf-8') as file:\n",
    "    data = json.load(file)\n",
    "\n",
    "# 데이터 추출\n",
    "rows = []\n",
    "for key, value in data.items():\n",
    "    student_idx = value['meta']['student_idx']\n",
    "    row = {'student_idx': student_idx, 'conversation_자아이해': '', 'conversation_교육기회탐색': '', 'conversation_직업정보탐색': ''}\n",
    "    \n",
    "    for conv in value['conversation']:\n",
    "        if conv['conv_category'] == '자아이해':\n",
    "            row['conversation_자아이해'] += ' ' + ' '.join([utterance['utterance'] for utterance in conv['utterances']])\n",
    "        elif conv['conv_category'] == '직업이해':\n",
    "            row['conversation_직업이해'] = ' '.join([utterance['utterance'] for utterance in conv['utterances']])\n",
    "        elif conv['conv_category'] == '교육기회탐색':\n",
    "            row['conversation_교육기회탐색'] += ' ' + ' '.join([utterance['utterance'] for utterance in conv['utterances']])\n",
    "        elif conv['conv_category'] == '직업정보탐색':\n",
    "            row['conversation_직업정보탐색'] += ' ' + ' '.join([utterance['utterance'] for utterance in conv['utterances']])\n",
    "        \n",
    "    rows.append(row)\n",
    "\n",
    "# DataFrame 생성\n",
    "df = pd.DataFrame(rows)\n",
    "\n",
    "# 짝수행의 내용 뒤에 홀수행의 내용 이어붙이기\n",
    "combined_rows = []\n",
    "for i in range(0, len(df), 2):\n",
    "    combined_row = df.iloc[i].copy()\n",
    "    if i + 1 < len(df) and df.iloc[i]['student_idx'] == df.iloc[i + 1]['student_idx']:\n",
    "        combined_row['conversation_자아이해'] += ' ' + df.iloc[i + 1]['conversation_자아이해']\n",
    "        combined_row['conversation_교육기회탐색'] += ' ' + df.iloc[i + 1]['conversation_교육기회탐색']\n",
    "        combined_row['conversation_직업정보탐색'] += ' ' + df.iloc[i + 1]['conversation_직업정보탐색']\n",
    "    combined_rows.append(combined_row)\n",
    "\n",
    "# 새로운 DataFrame 생성\n",
    "data_middle = pd.DataFrame(combined_rows)\n",
    "\n",
    "# NaN 처리\n",
    "data_middle.replace(' ', np.nan, inplace=True)\n",
    "data_middle.reset_index(drop=True, inplace=True)"
   ]
  },
  {
   "cell_type": "code",
   "execution_count": 58,
   "metadata": {},
   "outputs": [],
   "source": [
    "jun_middle = pd.read_csv('원본_데이터셋/test/중등/test_전문가라벨링데이터_중학교.csv', encoding= 'utf-8')"
   ]
  },
  {
   "cell_type": "code",
   "execution_count": 59,
   "metadata": {},
   "outputs": [],
   "source": [
    "data_middle.replace(np.nan, ' ', inplace=True)\n",
    "data_middle['text'] = data_middle['conversation_교육기회탐색'] + data_middle['conversation_자아이해'] + data_middle['conversation_직업이해'] + data_middle['conversation_직업정보탐색']\n",
    "\n",
    "# 데이터 병합\n",
    "merged_data_middle = pd.merge(data_middle[['student_idx', 'text']], jun_middle[['student_idx', 'priority1', 'priority2', 'priority3']], on='student_idx', how='inner')"
   ]
  },
  {
   "cell_type": "code",
   "execution_count": 61,
   "metadata": {},
   "outputs": [
    {
     "data": {
      "text/html": [
       "<div>\n",
       "<style scoped>\n",
       "    .dataframe tbody tr th:only-of-type {\n",
       "        vertical-align: middle;\n",
       "    }\n",
       "\n",
       "    .dataframe tbody tr th {\n",
       "        vertical-align: top;\n",
       "    }\n",
       "\n",
       "    .dataframe thead th {\n",
       "        text-align: right;\n",
       "    }\n",
       "</style>\n",
       "<table border=\"1\" class=\"dataframe\">\n",
       "  <thead>\n",
       "    <tr style=\"text-align: right;\">\n",
       "      <th></th>\n",
       "      <th>student_idx</th>\n",
       "      <th>text</th>\n",
       "      <th>priority1</th>\n",
       "      <th>priority2</th>\n",
       "      <th>priority3</th>\n",
       "    </tr>\n",
       "  </thead>\n",
       "  <tbody>\n",
       "    <tr>\n",
       "      <th>0</th>\n",
       "      <td>S-0025</td>\n",
       "      <td>그럼 의사가 되기 위해서는 지금부터 무엇을 준비해야 할까요? 우선 중학교 내신은...</td>\n",
       "      <td>의료관련 전문직</td>\n",
       "      <td>이학 전문직</td>\n",
       "      <td>보건의료 관련 서비스직</td>\n",
       "    </tr>\n",
       "    <tr>\n",
       "      <th>1</th>\n",
       "      <td>S-0123</td>\n",
       "      <td>웹툰 그리는 건 따로 배워요? 아니요 웹툰 작가가 되려면 어떻게 해야 할 것 같아...</td>\n",
       "      <td>웹·게임·애니메이션 관련직</td>\n",
       "      <td>조리 관련직</td>\n",
       "      <td>기타 특수 예술직</td>\n",
       "    </tr>\n",
       "  </tbody>\n",
       "</table>\n",
       "</div>"
      ],
      "text/plain": [
       "  student_idx                                               text  \\\n",
       "0      S-0025    그럼 의사가 되기 위해서는 지금부터 무엇을 준비해야 할까요? 우선 중학교 내신은...   \n",
       "1      S-0123   웹툰 그리는 건 따로 배워요? 아니요 웹툰 작가가 되려면 어떻게 해야 할 것 같아...   \n",
       "\n",
       "        priority1 priority2     priority3  \n",
       "0        의료관련 전문직    이학 전문직  보건의료 관련 서비스직  \n",
       "1  웹·게임·애니메이션 관련직    조리 관련직     기타 특수 예술직  "
      ]
     },
     "metadata": {},
     "output_type": "display_data"
    },
    {
     "name": "stdout",
     "output_type": "stream",
     "text": [
      "(319, 5)\n"
     ]
    }
   ],
   "source": [
    "display(merged_data_middle.head(2))\n",
    "merged_data_middle.isnull().sum()\n",
    "print(merged_data_middle.shape)"
   ]
  },
  {
   "cell_type": "markdown",
   "metadata": {},
   "source": [
    "## 초딩"
   ]
  },
  {
   "cell_type": "code",
   "execution_count": 62,
   "metadata": {},
   "outputs": [],
   "source": [
    "import json\n",
    "import pandas as pd\n",
    "import numpy as np\n",
    "\n",
    "# JSON 파일을 읽어서 파싱\n",
    "with open('상담기록_데이터_초등학교.json', 'r', encoding='utf-8') as file:\n",
    "    data = json.load(file)\n",
    "\n",
    "# 데이터 추출\n",
    "rows = []\n",
    "for key, value in data.items():\n",
    "    student_idx = value['meta']['student_idx']\n",
    "    row = {'student_idx': student_idx, 'conversation_자아이해': '', 'conversation_교육기회탐색': '', 'conversation_직업정보탐색': ''}\n",
    "    \n",
    "    for conv in value['conversation']:\n",
    "        if conv['conv_category'] == '자아이해':\n",
    "            row['conversation_자아이해'] += ' ' + ' '.join([utterance['utterance'] for utterance in conv['utterances']])\n",
    "        elif conv['conv_category'] == '직업이해':\n",
    "            row['conversation_직업이해'] = ' '.join([utterance['utterance'] for utterance in conv['utterances']])\n",
    "        elif conv['conv_category'] == '교육기회탐색':\n",
    "            row['conversation_교육기회탐색'] += ' ' + ' '.join([utterance['utterance'] for utterance in conv['utterances']])\n",
    "        elif conv['conv_category'] == '직업정보탐색':\n",
    "            row['conversation_직업정보탐색'] += ' ' + ' '.join([utterance['utterance'] for utterance in conv['utterances']])\n",
    "        \n",
    "    rows.append(row)\n",
    "\n",
    "# DataFrame 생성\n",
    "df = pd.DataFrame(rows)\n",
    "\n",
    "# 짝수행의 내용 뒤에 홀수행의 내용 이어붙이기\n",
    "combined_rows = []\n",
    "for i in range(0, len(df), 2):\n",
    "    combined_row = df.iloc[i].copy()\n",
    "    if i + 1 < len(df) and df.iloc[i]['student_idx'] == df.iloc[i + 1]['student_idx']:\n",
    "        combined_row['conversation_자아이해'] += ' ' + df.iloc[i + 1]['conversation_자아이해']\n",
    "        combined_row['conversation_교육기회탐색'] += ' ' + df.iloc[i + 1]['conversation_교육기회탐색']\n",
    "        combined_row['conversation_직업정보탐색'] += ' ' + df.iloc[i + 1]['conversation_직업정보탐색']\n",
    "    combined_rows.append(combined_row)\n",
    "\n",
    "# 새로운 DataFrame 생성\n",
    "data_element = pd.DataFrame(combined_rows)\n",
    "\n",
    "# NaN 처리\n",
    "data_element.replace(' ', np.nan, inplace=True)\n",
    "data_element.reset_index(drop=True, inplace=True)"
   ]
  },
  {
   "cell_type": "code",
   "execution_count": 63,
   "metadata": {},
   "outputs": [],
   "source": [
    "jun_element = pd.read_csv('원본_데이터셋/test/초등/test_전문가라벨링데이터_초등학교.csv', encoding= 'utf-8')"
   ]
  },
  {
   "cell_type": "code",
   "execution_count": 64,
   "metadata": {},
   "outputs": [],
   "source": [
    "data_element.replace(np.nan, ' ', inplace=True)\n",
    "data_element['text'] = data_element['conversation_교육기회탐색'] + data_element['conversation_자아이해'] + data_element['conversation_직업이해'] + data_element['conversation_직업정보탐색']\n",
    "\n",
    "# 데이터 병합\n",
    "merged_data_element = pd.merge(data_element[['student_idx', 'text']], jun_element[['student_idx', 'priority1', 'priority2', 'priority3']], on='student_idx', how='inner')"
   ]
  },
  {
   "cell_type": "code",
   "execution_count": 65,
   "metadata": {},
   "outputs": [
    {
     "data": {
      "text/html": [
       "<div>\n",
       "<style scoped>\n",
       "    .dataframe tbody tr th:only-of-type {\n",
       "        vertical-align: middle;\n",
       "    }\n",
       "\n",
       "    .dataframe tbody tr th {\n",
       "        vertical-align: top;\n",
       "    }\n",
       "\n",
       "    .dataframe thead th {\n",
       "        text-align: right;\n",
       "    }\n",
       "</style>\n",
       "<table border=\"1\" class=\"dataframe\">\n",
       "  <thead>\n",
       "    <tr style=\"text-align: right;\">\n",
       "      <th></th>\n",
       "      <th>student_idx</th>\n",
       "      <th>text</th>\n",
       "      <th>priority1</th>\n",
       "      <th>priority2</th>\n",
       "      <th>priority3</th>\n",
       "    </tr>\n",
       "  </thead>\n",
       "  <tbody>\n",
       "    <tr>\n",
       "      <th>0</th>\n",
       "      <td>S-0259</td>\n",
       "      <td>혹시 주변에 진로를 탐색해 볼 만한 곳이 있을까요? 모르겠어요 그럼 경기 꿈의 학...</td>\n",
       "      <td>운동 관련직</td>\n",
       "      <td>매니지먼트 관련직</td>\n",
       "      <td>안전 관련직</td>\n",
       "    </tr>\n",
       "    <tr>\n",
       "      <th>1</th>\n",
       "      <td>S-0268</td>\n",
       "      <td>외국어 고등학교 진학이 예전처럼 어렵진 않아요. 요즘 외국어 고등학교가 없어진다,...</td>\n",
       "      <td>법률 및 사회활동 관련직</td>\n",
       "      <td>언어 관련 전문직</td>\n",
       "      <td>인문 및 사회과학 관련직</td>\n",
       "    </tr>\n",
       "  </tbody>\n",
       "</table>\n",
       "</div>"
      ],
      "text/plain": [
       "  student_idx                                               text  \\\n",
       "0      S-0259   혹시 주변에 진로를 탐색해 볼 만한 곳이 있을까요? 모르겠어요 그럼 경기 꿈의 학...   \n",
       "1      S-0268   외국어 고등학교 진학이 예전처럼 어렵진 않아요. 요즘 외국어 고등학교가 없어진다,...   \n",
       "\n",
       "       priority1  priority2      priority3  \n",
       "0         운동 관련직  매니지먼트 관련직         안전 관련직  \n",
       "1  법률 및 사회활동 관련직  언어 관련 전문직  인문 및 사회과학 관련직  "
      ]
     },
     "metadata": {},
     "output_type": "display_data"
    },
    {
     "name": "stdout",
     "output_type": "stream",
     "text": [
      "(148, 5)\n"
     ]
    }
   ],
   "source": [
    "display(merged_data_element.head(2))\n",
    "merged_data_element.isnull().sum()\n",
    "print(merged_data_element.shape)"
   ]
  },
  {
   "cell_type": "code",
   "execution_count": 66,
   "metadata": {},
   "outputs": [
    {
     "data": {
      "text/html": [
       "<div>\n",
       "<style scoped>\n",
       "    .dataframe tbody tr th:only-of-type {\n",
       "        vertical-align: middle;\n",
       "    }\n",
       "\n",
       "    .dataframe tbody tr th {\n",
       "        vertical-align: top;\n",
       "    }\n",
       "\n",
       "    .dataframe thead th {\n",
       "        text-align: right;\n",
       "    }\n",
       "</style>\n",
       "<table border=\"1\" class=\"dataframe\">\n",
       "  <thead>\n",
       "    <tr style=\"text-align: right;\">\n",
       "      <th></th>\n",
       "      <th>student_idx</th>\n",
       "      <th>text</th>\n",
       "      <th>priority1</th>\n",
       "      <th>priority2</th>\n",
       "      <th>priority3</th>\n",
       "    </tr>\n",
       "  </thead>\n",
       "  <tbody>\n",
       "    <tr>\n",
       "      <th>0</th>\n",
       "      <td>S-0259</td>\n",
       "      <td>혹시 주변에 진로를 탐색해 볼 만한 곳이 있을까요? 모르겠어요 그럼 경기 꿈의 학...</td>\n",
       "      <td>운동 관련직</td>\n",
       "      <td>매니지먼트 관련직</td>\n",
       "      <td>안전 관련직</td>\n",
       "    </tr>\n",
       "    <tr>\n",
       "      <th>1</th>\n",
       "      <td>S-0268</td>\n",
       "      <td>외국어 고등학교 진학이 예전처럼 어렵진 않아요. 요즘 외국어 고등학교가 없어진다,...</td>\n",
       "      <td>법률 및 사회활동 관련직</td>\n",
       "      <td>언어 관련 전문직</td>\n",
       "      <td>인문 및 사회과학 관련직</td>\n",
       "    </tr>\n",
       "  </tbody>\n",
       "</table>\n",
       "</div>"
      ],
      "text/plain": [
       "  student_idx                                               text  \\\n",
       "0      S-0259   혹시 주변에 진로를 탐색해 볼 만한 곳이 있을까요? 모르겠어요 그럼 경기 꿈의 학...   \n",
       "1      S-0268   외국어 고등학교 진학이 예전처럼 어렵진 않아요. 요즘 외국어 고등학교가 없어진다,...   \n",
       "\n",
       "       priority1  priority2      priority3  \n",
       "0         운동 관련직  매니지먼트 관련직         안전 관련직  \n",
       "1  법률 및 사회활동 관련직  언어 관련 전문직  인문 및 사회과학 관련직  "
      ]
     },
     "metadata": {},
     "output_type": "display_data"
    },
    {
     "name": "stdout",
     "output_type": "stream",
     "text": [
      "student_idx    0\n",
      "text           0\n",
      "priority1      0\n",
      "priority2      0\n",
      "priority3      0\n",
      "dtype: int64\n",
      "(649, 5)\n"
     ]
    }
   ],
   "source": [
    "merge_all2 = pd.concat([merged_data_element, merged_data_middle, merged_data_high])\n",
    "display(merge_all2.head(2))\n",
    "print(merge_all2.isnull().sum())\n",
    "print(merge_all2.shape)"
   ]
  },
  {
   "cell_type": "code",
   "execution_count": 67,
   "metadata": {},
   "outputs": [],
   "source": [
    "merge_all2.to_csv('test_merge_모든데이터2.csv', encoding= 'utf-8-sig', index = False)"
   ]
  },
  {
   "cell_type": "code",
   "execution_count": null,
   "metadata": {},
   "outputs": [],
   "source": []
  }
 ],
 "metadata": {
  "kernelspec": {
   "display_name": "base",
   "language": "python",
   "name": "python3"
  },
  "language_info": {
   "codemirror_mode": {
    "name": "ipython",
    "version": 3
   },
   "file_extension": ".py",
   "mimetype": "text/x-python",
   "name": "python",
   "nbconvert_exporter": "python",
   "pygments_lexer": "ipython3",
   "version": "3.11.5"
  }
 },
 "nbformat": 4,
 "nbformat_minor": 2
}
