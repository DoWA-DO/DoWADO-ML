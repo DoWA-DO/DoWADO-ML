{
 "cells": [
  {
   "cell_type": "code",
   "execution_count": 1,
   "metadata": {},
   "outputs": [],
   "source": [
    "import pandas as pd\n",
    "\n",
    "train = pd.read_csv('merge_모든데이터2.csv', encoding = 'utf-8')\n",
    "test = pd.read_csv('test_merge_모든데이터2.csv', encoding = 'utf-8')"
   ]
  },
  {
   "cell_type": "code",
   "execution_count": 2,
   "metadata": {},
   "outputs": [
    {
     "name": "stdout",
     "output_type": "stream",
     "text": [
      "Requirement already satisfied: kiwipiepy in d:\\anaconda3\\lib\\site-packages (0.18.0)\n",
      "Requirement already satisfied: kiwipiepy-model<0.19,>=0.18 in d:\\anaconda3\\lib\\site-packages (from kiwipiepy) (0.18.0)\n",
      "Requirement already satisfied: numpy<2 in d:\\anaconda3\\lib\\site-packages (from kiwipiepy) (1.24.3)\n",
      "Requirement already satisfied: tqdm in d:\\anaconda3\\lib\\site-packages (from kiwipiepy) (4.65.0)\n",
      "Requirement already satisfied: colorama in d:\\anaconda3\\lib\\site-packages (from tqdm->kiwipiepy) (0.4.6)\n"
     ]
    }
   ],
   "source": [
    "!pip install kiwipiepy"
   ]
  },
  {
   "cell_type": "code",
   "execution_count": 3,
   "metadata": {},
   "outputs": [],
   "source": [
    "from sklearn.feature_extraction.text import TfidfVectorizer\n",
    "from sklearn.metrics.pairwise import cosine_similarity\n",
    "from sklearn.model_selection import train_test_split\n",
    "from sklearn.metrics import classification_report, confusion_matrix\n",
    "from sklearn.pipeline import Pipeline\n",
    "from sklearn.preprocessing import StandardScaler\n",
    "from sklearn.decomposition import TruncatedSVD\n",
    "from sklearn.svm import SVC\n",
    "from sklearn.model_selection import GridSearchCV\n",
    "from sklearn.ensemble import RandomForestClassifier\n",
    "from kiwipiepy import Kiwi"
   ]
  },
  {
   "cell_type": "code",
   "execution_count": 5,
   "metadata": {},
   "outputs": [],
   "source": [
    "# Kiwi 형태소 분석기 초기화\n",
    "kiwi = Kiwi()\n",
    "\n",
    "# 텍스트 전처리 함수\n",
    "def preprocess_text_kiwi(text):\n",
    "    result = kiwi.analyze(text)\n",
    "    tokens = []\n",
    "    for sentence in result:\n",
    "        for word, pos, _, _ in sentence[0]:\n",
    "            # 고유명사와 일반명사, 동사 품사를 추출\n",
    "            if pos in ['NNG', 'NNP', 'VV']:\n",
    "                tokens.append(word)\n",
    "    return ' '.join(tokens)\n",
    "\n",
    "# 텍스트 데이터 전처리\n",
    "train['processed_conversation2'] = train['text'].apply(preprocess_text_kiwi)\n",
    "test['processed_conversation2'] = test['text'].apply(preprocess_text_kiwi)"
   ]
  },
  {
   "cell_type": "code",
   "execution_count": 7,
   "metadata": {},
   "outputs": [],
   "source": [
    "# TF-IDF 벡터화 및 차원 축소(SVD) 파이프라인 설정\n",
    "pipeline = Pipeline([\n",
    "    ('tfidf', TfidfVectorizer(ngram_range=(1, 2), max_df=0.95, min_df=2)),\n",
    "    ('svd', TruncatedSVD(n_components=100)),\n",
    "])\n",
    "\n",
    "# 학습 데이터 벡터화\n",
    "X_train_tfidf = pipeline.fit_transform(train['processed_conversation2'])\n",
    "y_train = train['priority1']\n",
    "\n",
    "# 테스트 데이터 벡터화\n",
    "X_test_tfidf = pipeline.transform(test['processed_conversation2'])\n",
    "y_test = test['priority1']"
   ]
  },
  {
   "cell_type": "code",
   "execution_count": 8,
   "metadata": {},
   "outputs": [
    {
     "name": "stdout",
     "output_type": "stream",
     "text": [
      "Fitting 5 folds for each of 32 candidates, totalling 160 fits\n"
     ]
    },
    {
     "name": "stderr",
     "output_type": "stream",
     "text": [
      "d:\\Anaconda3\\Lib\\site-packages\\sklearn\\model_selection\\_split.py:725: UserWarning: The least populated class in y has only 1 members, which is less than n_splits=5.\n",
      "  warnings.warn(\n"
     ]
    },
    {
     "name": "stdout",
     "output_type": "stream",
     "text": [
      "[CV] END ......................C=0.1, gamma=1, kernel=linear; total time=   7.2s\n",
      "[CV] END ......................C=0.1, gamma=1, kernel=linear; total time=   7.3s\n",
      "[CV] END ......................C=0.1, gamma=1, kernel=linear; total time=   7.2s\n",
      "[CV] END ......................C=0.1, gamma=1, kernel=linear; total time=   7.2s\n",
      "[CV] END ......................C=0.1, gamma=1, kernel=linear; total time=   7.3s\n",
      "[CV] END .........................C=0.1, gamma=1, kernel=rbf; total time=  12.3s\n",
      "[CV] END .........................C=0.1, gamma=1, kernel=rbf; total time=  11.2s\n",
      "[CV] END .........................C=0.1, gamma=1, kernel=rbf; total time=  13.1s\n",
      "[CV] END .........................C=0.1, gamma=1, kernel=rbf; total time=  11.3s\n",
      "[CV] END .........................C=0.1, gamma=1, kernel=rbf; total time=  11.7s\n",
      "[CV] END ....................C=0.1, gamma=0.1, kernel=linear; total time=   7.3s\n",
      "[CV] END ....................C=0.1, gamma=0.1, kernel=linear; total time=   7.0s\n",
      "[CV] END ....................C=0.1, gamma=0.1, kernel=linear; total time=   7.0s\n",
      "[CV] END ....................C=0.1, gamma=0.1, kernel=linear; total time=   7.3s\n",
      "[CV] END ....................C=0.1, gamma=0.1, kernel=linear; total time=   7.1s\n",
      "[CV] END .......................C=0.1, gamma=0.1, kernel=rbf; total time=  11.1s\n",
      "[CV] END .......................C=0.1, gamma=0.1, kernel=rbf; total time=  11.4s\n",
      "[CV] END .......................C=0.1, gamma=0.1, kernel=rbf; total time=  11.4s\n",
      "[CV] END .......................C=0.1, gamma=0.1, kernel=rbf; total time=  11.4s\n",
      "[CV] END .......................C=0.1, gamma=0.1, kernel=rbf; total time=  11.4s\n",
      "[CV] END ...................C=0.1, gamma=0.01, kernel=linear; total time=   7.1s\n",
      "[CV] END ...................C=0.1, gamma=0.01, kernel=linear; total time=   7.1s\n",
      "[CV] END ...................C=0.1, gamma=0.01, kernel=linear; total time=   7.1s\n",
      "[CV] END ...................C=0.1, gamma=0.01, kernel=linear; total time=   7.2s\n",
      "[CV] END ...................C=0.1, gamma=0.01, kernel=linear; total time=   7.2s\n",
      "[CV] END ......................C=0.1, gamma=0.01, kernel=rbf; total time=  10.8s\n",
      "[CV] END ......................C=0.1, gamma=0.01, kernel=rbf; total time=  10.7s\n",
      "[CV] END ......................C=0.1, gamma=0.01, kernel=rbf; total time=  11.0s\n",
      "[CV] END ......................C=0.1, gamma=0.01, kernel=rbf; total time=  10.7s\n",
      "[CV] END ......................C=0.1, gamma=0.01, kernel=rbf; total time=  10.8s\n",
      "[CV] END ..................C=0.1, gamma=0.001, kernel=linear; total time=   7.0s\n"
     ]
    }
   ],
   "source": [
    "# SVM 모델 학습 및 하이퍼파라미터 튜닝\n",
    "svm_model = SVC(probability=True)\n",
    "param_grid = {\n",
    "    'C': [0.1, 1, 10, 100],\n",
    "    'gamma': [1, 0.1, 0.01, 0.001],\n",
    "    'kernel': ['linear', 'rbf']\n",
    "}\n",
    "grid = GridSearchCV(svm_model, param_grid, refit=True, verbose=2)\n",
    "grid.fit(X_train_tfidf, y_train)\n",
    "\n",
    "# 최적의 하이퍼파라미터 출력\n",
    "print(\"Best parameters found: \", grid.best_params_)\n",
    "\n",
    "# 최적 모델 평가 및 확률 값 계산\n",
    "y_pred = grid.predict(X_test_tfidf)\n",
    "y_pred_proba = grid.predict_proba(X_test_tfidf)\n",
    "\n",
    "print(classification_report(y_test, y_pred))"
   ]
  },
  {
   "cell_type": "code",
   "execution_count": null,
   "metadata": {},
   "outputs": [],
   "source": []
  }
 ],
 "metadata": {
  "kernelspec": {
   "display_name": "base",
   "language": "python",
   "name": "python3"
  },
  "language_info": {
   "codemirror_mode": {
    "name": "ipython",
    "version": 3
   },
   "file_extension": ".py",
   "mimetype": "text/x-python",
   "name": "python",
   "nbconvert_exporter": "python",
   "pygments_lexer": "ipython3",
   "version": "3.11.5"
  }
 },
 "nbformat": 4,
 "nbformat_minor": 2
}
