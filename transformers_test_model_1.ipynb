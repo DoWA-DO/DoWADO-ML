{
 "cells": [
  {
   "cell_type": "code",
   "execution_count": 8,
   "metadata": {},
   "outputs": [
    {
     "name": "stdout",
     "output_type": "stream",
     "text": [
      "Text: 아이 보모 => Predicted Class: 28\n"
     ]
    }
   ],
   "source": [
    "from transformers import AutoTokenizer, AutoModelForSequenceClassification\n",
    "import torch\n",
    "\n",
    "# 저장된 모델과 토크나이저 로드\n",
    "model_name = './transformers/model_1/model'\n",
    "tokenizer_name = './transformers/model_1/tokenizer'\n",
    "tokenizer = AutoTokenizer.from_pretrained(tokenizer_name)\n",
    "model = AutoModelForSequenceClassification.from_pretrained(model_name)\n",
    "\n",
    "def classify_text(text):\n",
    "    # 입력 문장 토크나이즈\n",
    "    inputs = tokenizer(text, return_tensors=\"pt\", padding=True, truncation=True, max_length=128)\n",
    "    \n",
    "    # 모델 추론\n",
    "    with torch.no_grad():\n",
    "        outputs = model(**inputs)\n",
    "    \n",
    "    # 로짓(logits) 값 가져오기\n",
    "    logits = outputs.logits\n",
    "\n",
    "    # 가장 높은 로짓 값의 인덱스를 예측 라벨로 사용\n",
    "    predicted_class_id = torch.argmax(logits, dim=-1).item()\n",
    "\n",
    "    return predicted_class_id\n",
    "\n",
    "# 분류할 문장들\n",
    "texts = [\n",
    "    '아이 보모'\n",
    "]\n",
    "\n",
    "# 각 문장을 분류하여 결과 출력\n",
    "for text in texts:\n",
    "    predicted_class_id = classify_text(text)\n",
    "    print(f\"Text: {text} => Predicted Class: {predicted_class_id}\")\n"
   ]
  },
  {
   "cell_type": "code",
   "execution_count": null,
   "metadata": {},
   "outputs": [],
   "source": []
  }
 ],
 "metadata": {
  "kernelspec": {
   "display_name": "data",
   "language": "python",
   "name": "python3"
  },
  "language_info": {
   "codemirror_mode": {
    "name": "ipython",
    "version": 3
   },
   "file_extension": ".py",
   "mimetype": "text/x-python",
   "name": "python",
   "nbconvert_exporter": "python",
   "pygments_lexer": "ipython3",
   "version": "3.11.5"
  }
 },
 "nbformat": 4,
 "nbformat_minor": 2
}
