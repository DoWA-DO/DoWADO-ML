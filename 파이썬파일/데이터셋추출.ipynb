{
 "cells": [
  {
   "cell_type": "code",
   "execution_count": 1,
   "metadata": {},
   "outputs": [],
   "source": [
    "import pandas as pd\n",
    "train_test1 = pd.read_csv('train_test1.csv', encoding='utf-8')\n",
    "test_test1 = pd.read_csv('test_test1.csv', encoding='utf-8')\n",
    "train_test2 = pd.read_csv('train_test2.csv', encoding='utf-8')\n",
    "test_test2 = pd.read_csv('test_test2.csv', encoding='utf-8')\n"
   ]
  },
  {
   "cell_type": "code",
   "execution_count": 2,
   "metadata": {},
   "outputs": [],
   "source": [
    "from sklearn.preprocessing import LabelEncoder\n",
    "\n",
    "# LabelEncoder 객체 생성\n",
    "label_encoder = LabelEncoder()\n",
    "\n",
    "# train_test1 데이터프레임의 'label' 열 레이블 인코딩\n",
    "train_test1['label'] = label_encoder.fit_transform(train_test1['label'])\n",
    "\n",
    "# test_test1 데이터프레임의 'label' 열도 같은 인코더로 레이블 인코딩 (필요시)\n",
    "test_test1['label'] = label_encoder.transform(test_test1['label'])"
   ]
  },
  {
   "cell_type": "code",
   "execution_count": 4,
   "metadata": {},
   "outputs": [
    {
     "data": {
      "text/html": [
       "<div>\n",
       "<style scoped>\n",
       "    .dataframe tbody tr th:only-of-type {\n",
       "        vertical-align: middle;\n",
       "    }\n",
       "\n",
       "    .dataframe tbody tr th {\n",
       "        vertical-align: top;\n",
       "    }\n",
       "\n",
       "    .dataframe thead th {\n",
       "        text-align: right;\n",
       "    }\n",
       "</style>\n",
       "<table border=\"1\" class=\"dataframe\">\n",
       "  <thead>\n",
       "    <tr style=\"text-align: right;\">\n",
       "      <th></th>\n",
       "      <th>label</th>\n",
       "      <th>text</th>\n",
       "    </tr>\n",
       "  </thead>\n",
       "  <tbody>\n",
       "    <tr>\n",
       "      <th>0</th>\n",
       "      <td>29</td>\n",
       "      <td>이모티콘 방학 휴가 다녀오 다녀오 충주 부모 여행 형제자매 여동생 동생 동생 이모티...</td>\n",
       "    </tr>\n",
       "    <tr>\n",
       "      <th>1</th>\n",
       "      <td>0</td>\n",
       "      <td>초등학교 여름 방학 생활 오늘 처음 학기 생활 국어 사회 좋아하 수학 과학 좋아하 ...</td>\n",
       "    </tr>\n",
       "  </tbody>\n",
       "</table>\n",
       "</div>"
      ],
      "text/plain": [
       "   label                                               text\n",
       "0     29  이모티콘 방학 휴가 다녀오 다녀오 충주 부모 여행 형제자매 여동생 동생 동생 이모티...\n",
       "1      0  초등학교 여름 방학 생활 오늘 처음 학기 생활 국어 사회 좋아하 수학 과학 좋아하 ..."
      ]
     },
     "metadata": {},
     "output_type": "display_data"
    },
    {
     "data": {
      "text/html": [
       "<div>\n",
       "<style scoped>\n",
       "    .dataframe tbody tr th:only-of-type {\n",
       "        vertical-align: middle;\n",
       "    }\n",
       "\n",
       "    .dataframe tbody tr th {\n",
       "        vertical-align: top;\n",
       "    }\n",
       "\n",
       "    .dataframe thead th {\n",
       "        text-align: right;\n",
       "    }\n",
       "</style>\n",
       "<table border=\"1\" class=\"dataframe\">\n",
       "  <thead>\n",
       "    <tr style=\"text-align: right;\">\n",
       "      <th></th>\n",
       "      <th>label</th>\n",
       "      <th>text</th>\n",
       "    </tr>\n",
       "  </thead>\n",
       "  <tbody>\n",
       "    <tr>\n",
       "      <th>0</th>\n",
       "      <td>26</td>\n",
       "      <td>카카오톡 상담사 가능 날씨 불구하 탐색 위하 노력 모습 보이 지금 여름 방학 기간 ...</td>\n",
       "    </tr>\n",
       "    <tr>\n",
       "      <th>1</th>\n",
       "      <td>15</td>\n",
       "      <td>안녕하세요 초등학교 안내 엄마 학부모회 네트워크 법조인 동기 바라보 바라 소아과 의...</td>\n",
       "    </tr>\n",
       "  </tbody>\n",
       "</table>\n",
       "</div>"
      ],
      "text/plain": [
       "   label                                               text\n",
       "0     26  카카오톡 상담사 가능 날씨 불구하 탐색 위하 노력 모습 보이 지금 여름 방학 기간 ...\n",
       "1     15  안녕하세요 초등학교 안내 엄마 학부모회 네트워크 법조인 동기 바라보 바라 소아과 의..."
      ]
     },
     "metadata": {},
     "output_type": "display_data"
    },
    {
     "name": "stdout",
     "output_type": "stream",
     "text": [
      "{'IT관련전문직': 0, '고급 운전 관련직': 1, '공학 기술직': 2, '공학 전문직': 3, '교육관련 서비스직': 4, '금융 및 경영 관련직': 5, '기능직': 6, '기타 게임·오락·스포츠 관련직': 7, '기타 특수 예술직': 8, '기획서비스직': 9, '농생명산업 관련직': 10, '디자인 관련직': 11, '매니지먼트 관련직': 12, '무용 관련직': 13, '미술 및 공예 관련직': 14, '법률 및 사회활동 관련직': 15, '보건의료 관련 서비스직': 16, '사무 관련직': 17, '사회서비스직': 18, '악기 관련직': 19, '안전 관련직': 20, '언어 관련 전문직': 21, '연기 관련직': 22, '영상 관련직': 23, '영업관련 서비스직': 24, '예술기획 관련직': 25, '운동 관련직': 26, '웹·게임·애니메이션 관련직': 27, '음악 관련직': 28, '의료관련 전문직': 29, '의복제조 관련직': 30, '이공계 교육 관련직': 31, '이미용 관련직': 32, '이학 전문직': 33, '인문 및 사회과학 관련직': 34, '인문계 교육 관련직': 35, '일반 서비스직': 36, '일반운전 관련직': 37, '자연친화 관련직': 38, '작가 관련직': 39, '조리 관련직': 40, '환경관련 전문직': 41, '회계 관련직': 42}\n"
     ]
    }
   ],
   "source": [
    "display(train_test1.head(2))\n",
    "display(test_test1.head(2))\n",
    "\n",
    "# 라벨과 인코딩된 값 매핑 확인\n",
    "label_mapping = dict(zip(label_encoder.classes_, label_encoder.transform(label_encoder.classes_)))\n",
    "print(label_mapping)"
   ]
  },
  {
   "cell_type": "code",
   "execution_count": 5,
   "metadata": {},
   "outputs": [],
   "source": [
    "train_test1.to_csv('train_test1.csv', index= False, encoding='utf-8-sig')\n",
    "test_test1.to_csv('test_test1.csv', index= False, encoding='utf-8-sig')\n"
   ]
  },
  {
   "cell_type": "markdown",
   "metadata": {},
   "source": [
    "## test2"
   ]
  },
  {
   "cell_type": "code",
   "execution_count": 6,
   "metadata": {},
   "outputs": [],
   "source": [
    "from sklearn.preprocessing import LabelEncoder\n",
    "\n",
    "# LabelEncoder 객체 생성\n",
    "label_encoder = LabelEncoder()\n",
    "\n",
    "# train_test1 데이터프레임의 'label' 열 레이블 인코딩\n",
    "train_test2['label'] = label_encoder.fit_transform(train_test2['label'])\n",
    "\n",
    "# test_test1 데이터프레임의 'label' 열도 같은 인코더로 레이블 인코딩 (필요시)\n",
    "test_test2['label'] = label_encoder.transform(test_test2['label'])"
   ]
  },
  {
   "cell_type": "code",
   "execution_count": 7,
   "metadata": {},
   "outputs": [
    {
     "data": {
      "text/html": [
       "<div>\n",
       "<style scoped>\n",
       "    .dataframe tbody tr th:only-of-type {\n",
       "        vertical-align: middle;\n",
       "    }\n",
       "\n",
       "    .dataframe tbody tr th {\n",
       "        vertical-align: top;\n",
       "    }\n",
       "\n",
       "    .dataframe thead th {\n",
       "        text-align: right;\n",
       "    }\n",
       "</style>\n",
       "<table border=\"1\" class=\"dataframe\">\n",
       "  <thead>\n",
       "    <tr style=\"text-align: right;\">\n",
       "      <th></th>\n",
       "      <th>label</th>\n",
       "      <th>text</th>\n",
       "    </tr>\n",
       "  </thead>\n",
       "  <tbody>\n",
       "    <tr>\n",
       "      <th>0</th>\n",
       "      <td>29</td>\n",
       "      <td>이모티콘 방학 휴가 다녀오 다녀오 충주 부모 여행 형제자매 여동생 동생 동생 이모티...</td>\n",
       "    </tr>\n",
       "    <tr>\n",
       "      <th>1</th>\n",
       "      <td>0</td>\n",
       "      <td>초등학교 여름 방학 생활 오늘 처음 학기 생활 국어 사회 수학 과학 즐기 활동 운동...</td>\n",
       "    </tr>\n",
       "  </tbody>\n",
       "</table>\n",
       "</div>"
      ],
      "text/plain": [
       "   label                                               text\n",
       "0     29  이모티콘 방학 휴가 다녀오 다녀오 충주 부모 여행 형제자매 여동생 동생 동생 이모티...\n",
       "1      0  초등학교 여름 방학 생활 오늘 처음 학기 생활 국어 사회 수학 과학 즐기 활동 운동..."
      ]
     },
     "metadata": {},
     "output_type": "display_data"
    },
    {
     "data": {
      "text/html": [
       "<div>\n",
       "<style scoped>\n",
       "    .dataframe tbody tr th:only-of-type {\n",
       "        vertical-align: middle;\n",
       "    }\n",
       "\n",
       "    .dataframe tbody tr th {\n",
       "        vertical-align: top;\n",
       "    }\n",
       "\n",
       "    .dataframe thead th {\n",
       "        text-align: right;\n",
       "    }\n",
       "</style>\n",
       "<table border=\"1\" class=\"dataframe\">\n",
       "  <thead>\n",
       "    <tr style=\"text-align: right;\">\n",
       "      <th></th>\n",
       "      <th>label</th>\n",
       "      <th>text</th>\n",
       "    </tr>\n",
       "  </thead>\n",
       "  <tbody>\n",
       "    <tr>\n",
       "      <th>0</th>\n",
       "      <td>26</td>\n",
       "      <td>카카오톡 상담사 가능 날씨 불구하 탐색 노력 모습 보이 지금 여름 방학 기간 방학 ...</td>\n",
       "    </tr>\n",
       "    <tr>\n",
       "      <th>1</th>\n",
       "      <td>15</td>\n",
       "      <td>안녕하세요 초등학교 안내 엄마 학부모회 네트워크 법조인 동기 바라보 바라 소아과 의...</td>\n",
       "    </tr>\n",
       "  </tbody>\n",
       "</table>\n",
       "</div>"
      ],
      "text/plain": [
       "   label                                               text\n",
       "0     26  카카오톡 상담사 가능 날씨 불구하 탐색 노력 모습 보이 지금 여름 방학 기간 방학 ...\n",
       "1     15  안녕하세요 초등학교 안내 엄마 학부모회 네트워크 법조인 동기 바라보 바라 소아과 의..."
      ]
     },
     "metadata": {},
     "output_type": "display_data"
    },
    {
     "name": "stdout",
     "output_type": "stream",
     "text": [
      "{'IT관련전문직': 0, '고급 운전 관련직': 1, '공학 기술직': 2, '공학 전문직': 3, '교육관련 서비스직': 4, '금융 및 경영 관련직': 5, '기능직': 6, '기타 게임·오락·스포츠 관련직': 7, '기타 특수 예술직': 8, '기획서비스직': 9, '농생명산업 관련직': 10, '디자인 관련직': 11, '매니지먼트 관련직': 12, '무용 관련직': 13, '미술 및 공예 관련직': 14, '법률 및 사회활동 관련직': 15, '보건의료 관련 서비스직': 16, '사무 관련직': 17, '사회서비스직': 18, '악기 관련직': 19, '안전 관련직': 20, '언어 관련 전문직': 21, '연기 관련직': 22, '영상 관련직': 23, '영업관련 서비스직': 24, '예술기획 관련직': 25, '운동 관련직': 26, '웹·게임·애니메이션 관련직': 27, '음악 관련직': 28, '의료관련 전문직': 29, '의복제조 관련직': 30, '이공계 교육 관련직': 31, '이미용 관련직': 32, '이학 전문직': 33, '인문 및 사회과학 관련직': 34, '인문계 교육 관련직': 35, '일반 서비스직': 36, '일반운전 관련직': 37, '자연친화 관련직': 38, '작가 관련직': 39, '조리 관련직': 40, '환경관련 전문직': 41, '회계 관련직': 42}\n"
     ]
    }
   ],
   "source": [
    "display(train_test2.head(2))\n",
    "display(test_test2.head(2))\n",
    "\n",
    "# 라벨과 인코딩된 값 매핑 확인\n",
    "label_mapping = dict(zip(label_encoder.classes_, label_encoder.transform(label_encoder.classes_)))\n",
    "print(label_mapping)"
   ]
  },
  {
   "cell_type": "code",
   "execution_count": 8,
   "metadata": {},
   "outputs": [],
   "source": [
    "train_test2.to_csv('train_test2.csv', index= False, encoding='utf-8-sig')\n",
    "test_test2.to_csv('test_test2.csv', index= False, encoding='utf-8-sig')\n"
   ]
  },
  {
   "cell_type": "code",
   "execution_count": null,
   "metadata": {},
   "outputs": [],
   "source": []
  }
 ],
 "metadata": {
  "kernelspec": {
   "display_name": "base",
   "language": "python",
   "name": "python3"
  },
  "language_info": {
   "codemirror_mode": {
    "name": "ipython",
    "version": 3
   },
   "file_extension": ".py",
   "mimetype": "text/x-python",
   "name": "python",
   "nbconvert_exporter": "python",
   "pygments_lexer": "ipython3",
   "version": "3.11.5"
  }
 },
 "nbformat": 4,
 "nbformat_minor": 2
}
