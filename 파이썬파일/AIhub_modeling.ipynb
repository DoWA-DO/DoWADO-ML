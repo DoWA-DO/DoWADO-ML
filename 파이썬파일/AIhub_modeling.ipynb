{
  "nbformat": 4,
  "nbformat_minor": 0,
  "metadata": {
    "colab": {
      "private_outputs": true,
      "provenance": [],
      "toc_visible": true,
      "gpuType": "T4"
    },
    "kernelspec": {
      "name": "python3",
      "display_name": "Python 3"
    },
    "language_info": {
      "name": "python"
    },
    "accelerator": "GPU"
  },
  "cells": [
    {
      "cell_type": "code",
      "execution_count": null,
      "metadata": {
        "id": "ajn_1l4FCzf6"
      },
      "outputs": [],
      "source": [
        "import pandas as pd\n",
        "\n",
        "train = pd.read_csv('merge_모든데이터.csv', encoding = 'utf-8')\n",
        "test = pd.read_csv('test_merge_모든데이터.csv', encoding = 'utf-8')"
      ]
    },
    {
      "cell_type": "code",
      "source": [
        "train.head()"
      ],
      "metadata": {
        "id": "OqaqeP_EE4c8"
      },
      "execution_count": null,
      "outputs": []
    },
    {
      "cell_type": "code",
      "source": [
        "display(test.head())"
      ],
      "metadata": {
        "id": "swNQltXxH9_U"
      },
      "execution_count": null,
      "outputs": []
    },
    {
      "cell_type": "markdown",
      "source": [
        "## Okt 기본모델 priority 3개로 늘려보기"
      ],
      "metadata": {
        "id": "Yz2j3Wt-KW-o"
      }
    },
    {
      "cell_type": "code",
      "source": [
        "!pip install konlpy"
      ],
      "metadata": {
        "id": "fTitBY6_LXFQ"
      },
      "execution_count": null,
      "outputs": []
    },
    {
      "cell_type": "code",
      "source": [
        "import pandas as pd\n",
        "import numpy as np\n",
        "from konlpy.tag import Okt\n",
        "from sklearn.feature_extraction.text import TfidfVectorizer\n",
        "from sklearn.model_selection import train_test_split\n",
        "from sklearn.linear_model import LogisticRegression\n",
        "from sklearn.metrics import classification_report, accuracy_score"
      ],
      "metadata": {
        "id": "kFkKnVRQMVZ4"
      },
      "execution_count": null,
      "outputs": []
    },
    {
      "cell_type": "code",
      "source": [
        "# 텍스트 데이터 전처리\n",
        "data['combined_conversation'] = data['combined_conversation'].str.replace('[^\\w\\s]', '')\n",
        "\n",
        "# 타깃 변수 설정\n",
        "target_columns = ['priority1', 'priority2', 'priority3']\n",
        "\n",
        "# 텍스트를 형태소 단위로 토큰화\n",
        "okt = Okt()\n",
        "\n",
        "def okt_tokenizer(text):\n",
        "    return okt.morphs(text)\n",
        "\n",
        "# TF-IDF 벡터화\n",
        "vectorizer = TfidfVectorizer(tokenizer=okt_tokenizer, max_features=10000)\n",
        "X_tfidf = vectorizer.fit_transform(data['combined_conversation'])\n",
        "\n",
        "# 데이터 분할\n",
        "X = X_tfidf\n",
        "y = data[target_columns]\n",
        "X_train, X_test, y_train, y_test = train_test_split(X, y, test_size=0.2, random_state=42)"
      ],
      "metadata": {
        "id": "v8kJUhoFIiJ5"
      },
      "execution_count": null,
      "outputs": []
    },
    {
      "cell_type": "code",
      "source": [
        "# 로지스틱 회귀 모델 학습\n",
        "model = LogisticRegression()\n",
        "model.fit(X_train, y_train['priority1'])  # 여기서는 우선 priority1에 대해 학습\n",
        "\n",
        "# 예측 확률 구하기\n",
        "y_pred_probs = model.predict_proba(X_test)\n",
        "\n",
        "# 상위 3개의 클래스를 priority1, priority2, priority3로 설정\n",
        "top3_preds_indices = np.argsort(y_pred_probs, axis=1)[:, -3:][:, ::-1]\n",
        "top3_preds = model.classes_[top3_preds_indices]\n",
        "\n",
        "priority1_pred = top3_preds[:, 0]\n",
        "priority2_pred = top3_preds[:, 1]\n",
        "priority3_pred = top3_preds[:, 2]\n",
        "\n",
        "# 실제 값\n",
        "priority1_true = y_test['priority1']\n",
        "priority2_true = y_test['priority2']\n",
        "priority3_true = y_test['priority3']\n",
        "\n",
        "# 예측 결과 평가\n",
        "print(\"Priority 1 Classification Report\")\n",
        "print(classification_report(priority1_true, priority1_pred))\n",
        "\n",
        "print(\"Priority 2 Classification Report\")\n",
        "print(classification_report(priority2_true, priority2_pred))\n",
        "\n",
        "print(\"Priority 3 Classification Report\")\n",
        "print(classification_report(priority3_true, priority3_pred))\n",
        "\n",
        "# 실제 값과 예측 값을 평탄화\n",
        "y_true_flat = y_test.values.flatten()\n",
        "y_pred_flat = np.hstack((priority1_pred, priority2_pred, priority3_pred))\n",
        "\n",
        "# 전체 정확도 계산\n",
        "overall_accuracy = accuracy_score(y_true_flat, y_pred_flat)\n",
        "print(f\"Overall Accuracy: {overall_accuracy * 100:.2f}%\")"
      ],
      "metadata": {
        "id": "kBdTairaMYGj"
      },
      "execution_count": null,
      "outputs": []
    },
    {
      "cell_type": "markdown",
      "source": [
        "## 설문조사 + 텍스트 처리"
      ],
      "metadata": {
        "id": "A8OTw7b5QR3C"
      }
    },
    {
      "cell_type": "code",
      "source": [],
      "metadata": {
        "id": "o-DAZVUvPqfx"
      },
      "execution_count": null,
      "outputs": []
    }
  ]
}