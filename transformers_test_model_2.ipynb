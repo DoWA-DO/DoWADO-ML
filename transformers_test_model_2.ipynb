{
 "cells": [
  {
   "cell_type": "code",
   "execution_count": 10,
   "metadata": {},
   "outputs": [
    {
     "name": "stdout",
     "output_type": "stream",
     "text": [
      "              precision    recall  f1-score   support\n",
      "\n",
      "           0       0.71      0.74      0.72        23\n",
      "           1       1.00      0.83      0.91         6\n",
      "           2       0.69      0.80      0.74        25\n",
      "           3       0.50      0.50      0.50         2\n",
      "           4       0.33      0.14      0.20         7\n",
      "           6       0.88      0.85      0.86        26\n",
      "           7       0.62      1.00      0.76         8\n",
      "           8       0.80      0.50      0.62         8\n",
      "           9       0.71      0.83      0.77         6\n",
      "          10       0.00      0.00      0.00         1\n",
      "          11       0.71      0.64      0.67        45\n",
      "          12       0.79      0.90      0.84        21\n",
      "          14       1.00      0.78      0.88        18\n",
      "          15       0.77      1.00      0.87        20\n",
      "          16       1.00      0.78      0.88         9\n",
      "          17       0.50      0.50      0.50         2\n",
      "          18       0.54      0.47      0.50        15\n",
      "          19       0.58      0.68      0.62        22\n",
      "          20       0.50      0.57      0.53         7\n",
      "          21       0.93      0.90      0.91        41\n",
      "          22       0.60      0.63      0.61        43\n",
      "          23       0.77      0.71      0.74        34\n",
      "          24       0.50      0.25      0.33        12\n",
      "          25       0.86      0.75      0.80         8\n",
      "          26       0.83      0.80      0.82        25\n",
      "          27       0.83      0.77      0.80        13\n",
      "          28       0.73      0.73      0.73        22\n",
      "          29       0.50      0.67      0.57         3\n",
      "          30       1.00      0.67      0.80         3\n",
      "          31       0.72      1.00      0.84        13\n",
      "          32       0.41      0.39      0.40        23\n",
      "          33       0.00      0.00      0.00         1\n",
      "          34       0.50      0.67      0.57         6\n",
      "          35       0.73      0.70      0.72        27\n",
      "          36       1.00      0.50      0.67         6\n",
      "          37       0.57      0.83      0.68        30\n",
      "          38       0.67      0.75      0.71         8\n",
      "          39       1.00      0.50      0.67         2\n",
      "          40       0.50      0.33      0.40         3\n",
      "          41       0.85      0.74      0.79        23\n",
      "          42       0.72      0.66      0.69        32\n",
      "\n",
      "    accuracy                           0.72       649\n",
      "   macro avg       0.68      0.65      0.65       649\n",
      "weighted avg       0.72      0.72      0.71       649\n",
      "\n"
     ]
    },
    {
     "name": "stderr",
     "output_type": "stream",
     "text": [
      "c:\\Users\\P\\anaconda3\\envs\\data\\Lib\\site-packages\\sklearn\\metrics\\_classification.py:1531: UndefinedMetricWarning: Precision is ill-defined and being set to 0.0 in labels with no predicted samples. Use `zero_division` parameter to control this behavior.\n",
      "  _warn_prf(average, modifier, f\"{metric.capitalize()} is\", len(result))\n",
      "c:\\Users\\P\\anaconda3\\envs\\data\\Lib\\site-packages\\sklearn\\metrics\\_classification.py:1531: UndefinedMetricWarning: Precision is ill-defined and being set to 0.0 in labels with no predicted samples. Use `zero_division` parameter to control this behavior.\n",
      "  _warn_prf(average, modifier, f\"{metric.capitalize()} is\", len(result))\n",
      "c:\\Users\\P\\anaconda3\\envs\\data\\Lib\\site-packages\\sklearn\\metrics\\_classification.py:1531: UndefinedMetricWarning: Precision is ill-defined and being set to 0.0 in labels with no predicted samples. Use `zero_division` parameter to control this behavior.\n",
      "  _warn_prf(average, modifier, f\"{metric.capitalize()} is\", len(result))\n"
     ]
    }
   ],
   "source": [
    "import pandas as pd\n",
    "from transformers import AutoTokenizer, AutoModelForSequenceClassification\n",
    "import torch\n",
    "from sklearn.metrics import classification_report\n",
    "\n",
    "# 저장된 모델과 토크나이저 로드\n",
    "model_name = r'transformers\\model_2_full_kiwi\\trained_model'\n",
    "tokenizer_name = r'transformers\\model_2_full_kiwi\\trained_tokenizer'\n",
    "tokenizer = AutoTokenizer.from_pretrained(tokenizer_name)\n",
    "model = AutoModelForSequenceClassification.from_pretrained(model_name)\n",
    "\n",
    "# 테스트 데이터 로드\n",
    "test_text = pd.read_csv(r'C:\\Users\\P\\Desktop\\DoWADO\\AI\\tfs_test_1.csv')\n",
    "\n",
    "def classify_text(text):\n",
    "    inputs = tokenizer(text, return_tensors=\"pt\", padding='max_length', truncation=True)\n",
    "    with torch.no_grad():\n",
    "        outputs = model(**inputs)\n",
    "    logits = outputs.logits\n",
    "    predicted_class_id = torch.argmax(logits, dim=-1).item()\n",
    "    return predicted_class_id\n",
    "\n",
    "def classify_dataframe(df, text_column):\n",
    "    predictions = []\n",
    "    for text in df[text_column]:\n",
    "        predicted_class_id = classify_text(text)\n",
    "        predictions.append(predicted_class_id)\n",
    "    df['Predicted Class'] = predictions\n",
    "    return df\n",
    "\n",
    "# 예시 입력 데이터 프레임\n",
    "test_x = test_text[['text']]\n",
    "test_y = test_text[['label']]\n",
    "\n",
    "# 데이터 프레임의 텍스트 분류\n",
    "pred = classify_dataframe(test_x, 'text')\n",
    "\n",
    "# 결과 출력\n",
    "print(classification_report(test_y, pred['Predicted Class']))\n"
   ]
  },
  {
   "cell_type": "code",
   "execution_count": null,
   "metadata": {},
   "outputs": [],
   "source": []
  }
 ],
 "metadata": {
  "kernelspec": {
   "display_name": "base",
   "language": "python",
   "name": "python3"
  },
  "language_info": {
   "codemirror_mode": {
    "name": "ipython",
    "version": 3
   },
   "file_extension": ".py",
   "mimetype": "text/x-python",
   "name": "python",
   "nbconvert_exporter": "python",
   "pygments_lexer": "ipython3",
   "version": "3.11.5"
  }
 },
 "nbformat": 4,
 "nbformat_minor": 2
}
