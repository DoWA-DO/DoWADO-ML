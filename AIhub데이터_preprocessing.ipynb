{
  "nbformat": 4,
  "nbformat_minor": 0,
  "metadata": {
    "colab": {
      "private_outputs": true,
      "provenance": [],
      "toc_visible": true
    },
    "kernelspec": {
      "name": "python3",
      "display_name": "Python 3"
    },
    "language_info": {
      "name": "python"
    }
  },
  "cells": [
    {
      "cell_type": "markdown",
      "source": [
        "## 초등학교 merge"
      ],
      "metadata": {
        "id": "eTbccV0R5emb"
      }
    },
    {
      "cell_type": "code",
      "execution_count": null,
      "metadata": {
        "id": "qVmHNeU82wh5"
      },
      "outputs": [],
      "source": [
        "import pandas as pd\n",
        "\n",
        "element_student = pd.read_csv('학생기초정보데이터_초등학교.csv', encoding = 'utf-8')\n",
        "element_professional = pd.read_csv('전문가라벨링데이터_초등학교.csv', encoding = 'utf-8')\n",
        "element_text = pd.read_csv('상담기록데이터_초등학교.csv', encoding = 'utf-8')\n",
        "\n",
        "display(element_professional.head())\n",
        "display(element_student.head())\n",
        "display(element_text.head())\n"
      ]
    },
    {
      "cell_type": "code",
      "source": [
        "element_temp = pd.merge( element_professional, element_student, left_on = 'student_idx', right_on='index')\n",
        "merge_element_data = pd.merge(element_temp, element_text, on = 'student_idx')\n",
        "\n",
        "pd.set_option('display.max_columns', None)\n",
        "display(merge_element_data.head(2))\n",
        "print(merge_element_data.shape)"
      ],
      "metadata": {
        "id": "C8tp22Bp33Qf"
      },
      "execution_count": null,
      "outputs": []
    },
    {
      "cell_type": "code",
      "source": [
        "drop_cols = ['job_label', 'expert_comment_ko', 'index', 'school_type', 'region', 'gender', 'grade', 'counselling_purpose_x','counseling_idx_1', 'counselling_purpose_y', 'counselling_satisfaction', 'counselling_date']\n",
        "merge_element_data = merge_element_data.drop(drop_cols, axis = 1)"
      ],
      "metadata": {
        "id": "ko-9tRcV4MsP"
      },
      "execution_count": null,
      "outputs": []
    },
    {
      "cell_type": "code",
      "source": [
        "display(merge_element_data.head(2))\n",
        "print(merge_element_data.shape)"
      ],
      "metadata": {
        "id": "lGXqozDY5NUP"
      },
      "execution_count": null,
      "outputs": []
    },
    {
      "cell_type": "markdown",
      "source": [
        "## 중학교 merge"
      ],
      "metadata": {
        "id": "mNr-YvpA5g7v"
      }
    },
    {
      "cell_type": "code",
      "source": [
        "import pandas as pd\n",
        "\n",
        "middle_student = pd.read_csv('학생기초정보데이터_중학교.csv', encoding = 'utf-8')\n",
        "middle_professional = pd.read_csv('전문가라벨링데이터_중학교.csv', encoding = 'utf-8')\n",
        "middle_text = pd.read_csv('상담기록데이터_중학교.csv', encoding = 'utf-8')"
      ],
      "metadata": {
        "id": "X6ANV7IY5bVA"
      },
      "execution_count": null,
      "outputs": []
    },
    {
      "cell_type": "code",
      "source": [
        "middle_temp = pd.merge( middle_professional, middle_student, left_on = 'student_idx', right_on='index')\n",
        "merge_middle_data = pd.merge(middle_temp, middle_text, on = 'student_idx')\n",
        "\n",
        "pd.set_option('display.max_columns', None)\n",
        "display(merge_middle_data.head(2))\n",
        "print(merge_middle_data.shape)"
      ],
      "metadata": {
        "id": "GgQDxYK65k1S"
      },
      "execution_count": null,
      "outputs": []
    },
    {
      "cell_type": "code",
      "source": [
        "drop_cols = ['job_label', 'expert_comment_ko', 'index', 'school_type', 'region', 'gender', 'grade', 'counselling_purpose_x','counseling_idx_1', 'counselling_purpose_y', 'counselling_satisfaction', 'counselling_date']\n",
        "merge_middle_data = merge_middle_data.drop(drop_cols, axis = 1)"
      ],
      "metadata": {
        "id": "gwrbvNIa5n6s"
      },
      "execution_count": null,
      "outputs": []
    },
    {
      "cell_type": "code",
      "source": [
        "display(merge_middle_data.head(2))\n",
        "print(merge_middle_data.shape)"
      ],
      "metadata": {
        "id": "8g5_qH4v56Kk"
      },
      "execution_count": null,
      "outputs": []
    },
    {
      "cell_type": "markdown",
      "source": [
        "## 고등학교"
      ],
      "metadata": {
        "id": "_tE2U9Ip6Eze"
      }
    },
    {
      "cell_type": "code",
      "source": [
        "import pandas as pd\n",
        "\n",
        "high_student = pd.read_csv('학생기초정보데이터_고등학교.csv', encoding = 'utf-8')\n",
        "high_professional = pd.read_csv('전문가라벨링데이터_고등학교.csv', encoding = 'utf-8')\n",
        "high_text = pd.read_csv('상담기록데이터_고등학교.csv', encoding = 'utf-8')"
      ],
      "metadata": {
        "id": "KURaDl186HXw"
      },
      "execution_count": null,
      "outputs": []
    },
    {
      "cell_type": "code",
      "source": [
        "high_temp = pd.merge(high_professional, high_student, left_on = 'student_idx', right_on='index')\n",
        "merge_high_data = pd.merge(high_temp, high_text, on = 'student_idx')\n",
        "\n",
        "pd.set_option('display.max_columns', None)\n",
        "display(merge_high_data.head(2))\n",
        "print(merge_high_data.shape)"
      ],
      "metadata": {
        "id": "MeZ_pNfD6HXx"
      },
      "execution_count": null,
      "outputs": []
    },
    {
      "cell_type": "code",
      "source": [
        "drop_cols = ['job_label', 'expert_comment_ko', 'index', 'school_type', 'region', 'gender', 'grade', 'counselling_purpose_x','counseling_idx_1', 'counselling_purpose_y', 'counselling_satisfaction', 'counselling_date']\n",
        "merge_high_data = merge_high_data.drop(drop_cols, axis = 1)"
      ],
      "metadata": {
        "id": "4e7WqpwP6HXx"
      },
      "execution_count": null,
      "outputs": []
    },
    {
      "cell_type": "code",
      "source": [
        "display(merge_high_data.head(2))\n",
        "print(merge_high_data.shape)"
      ],
      "metadata": {
        "id": "KqRYttGM6HXx"
      },
      "execution_count": null,
      "outputs": []
    },
    {
      "cell_type": "code",
      "source": [
        "print(merge_element_data.shape)\n",
        "print(merge_middle_data.shape)\n",
        "print(merge_high_data.shape)"
      ],
      "metadata": {
        "id": "vB1zDO0c7yaT"
      },
      "execution_count": null,
      "outputs": []
    },
    {
      "cell_type": "code",
      "source": [
        "# DataFrame 결합\n",
        "merged_all_data = pd.concat([merge_element_data, merge_middle_data, merge_high_data], ignore_index=True)\n",
        "\n",
        "# 결합된 DataFrame의 크기 출력\n",
        "print(merged_all_data.shape)  # (5200, 14)\n",
        "\n",
        "# 결합된 DataFrame 출력\n",
        "display(merged_all_data)"
      ],
      "metadata": {
        "id": "xT3PrJuP8AtT"
      },
      "execution_count": null,
      "outputs": []
    },
    {
      "cell_type": "code",
      "source": [
        "merged_all_data.to_csv('merge_모든데이터.csv', index=False, encoding='utf-8-sig')"
      ],
      "metadata": {
        "id": "BDUT3d3N8Pbg"
      },
      "execution_count": null,
      "outputs": []
    },
    {
      "cell_type": "markdown",
      "source": [
        "## 데이터 전처리"
      ],
      "metadata": {
        "id": "GdFriC029tqH"
      }
    },
    {
      "cell_type": "code",
      "source": [
        "merged_all_data.isnull().sum()"
      ],
      "metadata": {
        "id": "DQQ7b-ze-AEi"
      },
      "execution_count": null,
      "outputs": []
    },
    {
      "cell_type": "code",
      "source": [
        "data = merged_all_data[['combined_conversation', 'priority1', 'priority2', 'priority3']]\n",
        "\n",
        "# 텍스트 데이터 전처리\n",
        "data['combined_conversation'] = data['combined_conversation'].str.replace('[^\\w\\s]', '')\n",
        "\n",
        "# 타깃 변수 설정\n",
        "target_columns = ['priority1', 'priority2', 'priority3']"
      ],
      "metadata": {
        "id": "NUuXEgqH8gLP"
      },
      "execution_count": null,
      "outputs": []
    },
    {
      "cell_type": "markdown",
      "source": [
        "## 텍스트 벡터화(KoNLPy의 Okt 형태소 분석기)"
      ],
      "metadata": {
        "id": "lyQdr7uY-HVv"
      }
    },
    {
      "cell_type": "code",
      "source": [
        "!pip install konlpy"
      ],
      "metadata": {
        "id": "f98ZQyL6-1dr"
      },
      "execution_count": null,
      "outputs": []
    },
    {
      "cell_type": "code",
      "source": [
        "from konlpy.tag import Okt\n",
        "from sklearn.feature_extraction.text import TfidfVectorizer\n",
        "\n",
        "okt = Okt()\n",
        "\n",
        "# 텍스트를 형태소 단위로 토큰화\n",
        "def okt_tokenizer(text):\n",
        "    return okt.morphs(text)\n",
        "\n",
        "# TF-IDF 벡터화\n",
        "vectorizer = TfidfVectorizer(tokenizer=okt_tokenizer, max_features=10000)\n",
        "X_tfidf = vectorizer.fit_transform(data['combined_conversation'])\n"
      ],
      "metadata": {
        "id": "SQTXxCq9-Gbn"
      },
      "execution_count": null,
      "outputs": []
    },
    {
      "cell_type": "markdown",
      "source": [
        "## 데이터 분할 및 학습"
      ],
      "metadata": {
        "id": "XTAR3gSF_F-k"
      }
    },
    {
      "cell_type": "code",
      "source": [
        "data['priority1'].value_counts()"
      ],
      "metadata": {
        "id": "gIZbfGCoDcml"
      },
      "execution_count": null,
      "outputs": []
    },
    {
      "cell_type": "code",
      "source": [
        "from sklearn.model_selection import train_test_split\n",
        "from sklearn.multioutput import MultiOutputClassifier\n",
        "from sklearn.linear_model import LogisticRegression\n",
        "from sklearn.metrics import classification_report\n",
        "\n",
        "# 데이터 분할\n",
        "X = X_tfidf\n",
        "y = data['priority1']\n",
        "X_train, X_test, y_train, y_test = train_test_split(X, y, test_size=0.2, random_state=42)\n",
        "\n",
        "# 로지스틱 회귀 모델 학습\n",
        "model = LogisticRegression()\n",
        "model.fit(X_train, y_train)\n",
        "\n",
        "# 예측\n",
        "y_pred = model.predict(X_test)\n",
        "\n",
        "# 평가\n",
        "print(\"Classification Report for priority1:\")\n",
        "print(classification_report(y_test, y_pred))\n"
      ],
      "metadata": {
        "id": "OT1WqtHS-OQt"
      },
      "execution_count": null,
      "outputs": []
    },
    {
      "cell_type": "markdown",
      "source": [
        "## --------------TEST--------------"
      ],
      "metadata": {
        "id": "aLrgorpNMkho"
      }
    },
    {
      "cell_type": "markdown",
      "source": [
        "## 초등학교 merge"
      ],
      "metadata": {
        "id": "jqS_G1s5MsAW"
      }
    },
    {
      "cell_type": "code",
      "execution_count": null,
      "metadata": {
        "id": "0YhSY-igMsAW"
      },
      "outputs": [],
      "source": [
        "import pandas as pd\n",
        "\n",
        "test_element_student = pd.read_csv('test_학생기초정보데이터_초등학교.csv', encoding = 'utf-8')\n",
        "test_element_professional = pd.read_csv('test_전문가라벨링데이터_초등학교.csv', encoding = 'utf-8')\n",
        "test_element_text = pd.read_csv('test_상담기록데이터_초등학교.csv', encoding = 'utf-8')\n",
        "\n",
        "display(test_element_student.head())\n",
        "display(test_element_professional.head())\n",
        "display(test_element_text.head())\n"
      ]
    },
    {
      "cell_type": "code",
      "source": [
        "test_element_temp = pd.merge(test_element_professional, test_element_student, left_on = 'student_idx', right_on='index')\n",
        "test_merge_element_data = pd.merge(test_element_temp, test_element_text, on = 'student_idx')\n",
        "\n",
        "pd.set_option('display.max_columns', None)\n",
        "display(test_merge_element_data.head(2))\n",
        "print(test_merge_element_data.shape)"
      ],
      "metadata": {
        "id": "lzaBbQNkMsAW"
      },
      "execution_count": null,
      "outputs": []
    },
    {
      "cell_type": "code",
      "source": [
        "drop_cols = ['job_label', 'expert_comment_ko', 'index', 'school_type', 'region', 'gender', 'grade', 'counselling_purpose_x','counseling_idx_1', 'counselling_purpose_y', 'counselling_satisfaction', 'counselling_date']\n",
        "test_merge_element_data = test_merge_element_data.drop(drop_cols, axis = 1)"
      ],
      "metadata": {
        "id": "-PZ5tkHZMsAX"
      },
      "execution_count": null,
      "outputs": []
    },
    {
      "cell_type": "code",
      "source": [
        "display(test_merge_element_data.head(2))\n",
        "print(test_merge_element_data.shape)"
      ],
      "metadata": {
        "id": "52jCgCLiMsAX"
      },
      "execution_count": null,
      "outputs": []
    },
    {
      "cell_type": "markdown",
      "source": [
        "## 중학교 merge"
      ],
      "metadata": {
        "id": "WzsXjOjKMsAX"
      }
    },
    {
      "cell_type": "code",
      "source": [
        "import pandas as pd\n",
        "\n",
        "test_middle_student = pd.read_csv('test_학생기초정보데이터_중학교.csv', encoding = 'utf-8')\n",
        "test_middle_professional = pd.read_csv('test_전문가라벨링데이터_중학교.csv', encoding = 'utf-8')\n",
        "test_middle_text = pd.read_csv('test_상담기록데이터_중학교.csv', encoding = 'utf-8')"
      ],
      "metadata": {
        "id": "5V7fKVYVMsAX"
      },
      "execution_count": null,
      "outputs": []
    },
    {
      "cell_type": "code",
      "source": [
        "test_middle_temp = pd.merge( test_middle_professional, test_middle_student, left_on = 'student_idx', right_on='index')\n",
        "test_merge_middle_data = pd.merge(test_middle_temp, test_middle_text, on = 'student_idx')\n",
        "\n",
        "pd.set_option('display.max_columns', None)\n",
        "display(test_merge_middle_data.head(2))\n",
        "print(test_merge_middle_data.shape)"
      ],
      "metadata": {
        "id": "ckfQ9iD_MsAX"
      },
      "execution_count": null,
      "outputs": []
    },
    {
      "cell_type": "code",
      "source": [
        "drop_cols = ['job_label', 'expert_comment_ko', 'index', 'school_type', 'region', 'gender', 'grade', 'counselling_purpose_x','counseling_idx_1', 'counselling_purpose_y', 'counselling_satisfaction', 'counselling_date']\n",
        "test_merge_middle_data = test_merge_middle_data.drop(drop_cols, axis = 1)"
      ],
      "metadata": {
        "id": "hWEZ17MFMsAY"
      },
      "execution_count": null,
      "outputs": []
    },
    {
      "cell_type": "code",
      "source": [
        "display(test_merge_middle_data.head(2))\n",
        "print(test_merge_middle_data.shape)"
      ],
      "metadata": {
        "id": "S7MCiYrUMsAY"
      },
      "execution_count": null,
      "outputs": []
    },
    {
      "cell_type": "markdown",
      "source": [
        "## 고등학교"
      ],
      "metadata": {
        "id": "Tnf-TMj1MsAY"
      }
    },
    {
      "cell_type": "code",
      "source": [
        "import pandas as pd\n",
        "\n",
        "test_high_student = pd.read_csv('test_학생기초정보데이터_고등학교.csv', encoding = 'utf-8')\n",
        "test_high_professional = pd.read_csv('test_전문가라벨링데이터_고등학교.csv', encoding = 'utf-8')\n",
        "test_high_text = pd.read_csv('test_상담기록데이터_고등학교.csv', encoding = 'utf-8')"
      ],
      "metadata": {
        "id": "Oks2Uw2_MsAY"
      },
      "execution_count": null,
      "outputs": []
    },
    {
      "cell_type": "code",
      "source": [
        "test_high_temp = pd.merge(test_high_professional, test_high_student, left_on = 'student_idx', right_on='index')\n",
        "test_merge_high_data = pd.merge(test_high_temp, test_high_text, on = 'student_idx')\n",
        "\n",
        "pd.set_option('display.max_columns', None)\n",
        "display(test_merge_high_data.head(2))\n",
        "print(test_merge_high_data.shape)"
      ],
      "metadata": {
        "id": "sVAdGbaEMsAY"
      },
      "execution_count": null,
      "outputs": []
    },
    {
      "cell_type": "code",
      "source": [
        "drop_cols = ['job_label', 'expert_comment_ko', 'index', 'school_type', 'region', 'gender', 'grade', 'counselling_purpose_x','counseling_idx_1', 'counselling_purpose_y', 'counselling_satisfaction', 'counselling_date']\n",
        "test_merge_high_data = test_merge_high_data.drop(drop_cols, axis = 1)"
      ],
      "metadata": {
        "id": "7BLnCYhXMsAZ"
      },
      "execution_count": null,
      "outputs": []
    },
    {
      "cell_type": "code",
      "source": [
        "display(test_merge_high_data.head(2))\n",
        "print(test_merge_high_data.shape)"
      ],
      "metadata": {
        "id": "xtzHd17CMsAZ"
      },
      "execution_count": null,
      "outputs": []
    },
    {
      "cell_type": "code",
      "source": [
        "print(test_merge_element_data.shape)\n",
        "print(test_merge_middle_data.shape)\n",
        "print(test_merge_high_data.shape)"
      ],
      "metadata": {
        "id": "ar_gIQioMsAZ"
      },
      "execution_count": null,
      "outputs": []
    },
    {
      "cell_type": "code",
      "source": [
        "# DataFrame 결합\n",
        "test_merged_all_data = pd.concat([test_merge_element_data, test_merge_middle_data, test_merge_high_data], ignore_index=True)\n",
        "\n",
        "# 결합된 DataFrame의 크기 출력\n",
        "print(test_merged_all_data.shape)  # (5200, 14)\n",
        "\n",
        "# 결합된 DataFrame 출력\n",
        "display(test_merged_all_data)"
      ],
      "metadata": {
        "id": "YQTZO9L8MsAZ"
      },
      "execution_count": null,
      "outputs": []
    },
    {
      "cell_type": "code",
      "source": [
        "test_merged_all_data.to_csv('test_merge_모든데이터.csv', index=False, encoding='utf-8-sig')"
      ],
      "metadata": {
        "id": "jLEHPjcDMsAZ"
      },
      "execution_count": null,
      "outputs": []
    },
    {
      "cell_type": "markdown",
      "source": [
        "## test데이터 학습"
      ],
      "metadata": {
        "id": "38eAty1QNrxq"
      }
    },
    {
      "cell_type": "code",
      "source": [
        "# 필요한 열만 선택\n",
        "test_data = test_merged_all_data[['combined_conversation', 'priority1']]\n",
        "\n",
        "# 텍스트 데이터 전처리\n",
        "test_data['combined_conversation'] = test_data['combined_conversation'].str.replace('[^\\w\\s]', '', regex=True)\n",
        "\n",
        "# TF-IDF 벡터화 (학습된 벡터라이저 사용)\n",
        "X_test_tfidf = vectorizer.transform(test_data['combined_conversation'])\n",
        "\n",
        "# 실제 예측\n",
        "y_test_true = test_data['priority1']\n",
        "y_test_pred = model.predict(X_test_tfidf)\n",
        "\n",
        "# 평가\n",
        "print(\"Classification Report for priority1 on actual test data:\")\n",
        "print(classification_report(y_test_true, y_test_pred))"
      ],
      "metadata": {
        "id": "vZwxF0FyNsvQ"
      },
      "execution_count": null,
      "outputs": []
    },
    {
      "cell_type": "code",
      "source": [],
      "metadata": {
        "id": "kNfurVsaOCFL"
      },
      "execution_count": null,
      "outputs": []
    }
  ]
}